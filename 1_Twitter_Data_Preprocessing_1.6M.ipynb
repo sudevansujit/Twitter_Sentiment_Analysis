{
 "cells": [
  {
   "cell_type": "markdown",
   "metadata": {},
   "source": [
    "# 1.6M Twitter Data Preprocessing"
   ]
  },
  {
   "cell_type": "code",
   "execution_count": 8,
   "metadata": {},
   "outputs": [],
   "source": [
    "import pandas as pd\n",
    "import numpy as np\n",
    "import re\n",
    "\n",
    "pd.options.display.max_colwidth = 200"
   ]
  },
  {
   "cell_type": "code",
   "execution_count": 9,
   "metadata": {},
   "outputs": [
    {
     "data": {
      "text/html": [
       "<div>\n",
       "<style scoped>\n",
       "    .dataframe tbody tr th:only-of-type {\n",
       "        vertical-align: middle;\n",
       "    }\n",
       "\n",
       "    .dataframe tbody tr th {\n",
       "        vertical-align: top;\n",
       "    }\n",
       "\n",
       "    .dataframe thead th {\n",
       "        text-align: right;\n",
       "    }\n",
       "</style>\n",
       "<table border=\"1\" class=\"dataframe\">\n",
       "  <thead>\n",
       "    <tr style=\"text-align: right;\">\n",
       "      <th></th>\n",
       "      <th>target</th>\n",
       "      <th>ids</th>\n",
       "      <th>date</th>\n",
       "      <th>flag</th>\n",
       "      <th>user</th>\n",
       "      <th>text</th>\n",
       "    </tr>\n",
       "  </thead>\n",
       "  <tbody>\n",
       "    <tr>\n",
       "      <th>0</th>\n",
       "      <td>0</td>\n",
       "      <td>1467810369</td>\n",
       "      <td>Mon Apr 06 22:19:45 PDT 2009</td>\n",
       "      <td>NO_QUERY</td>\n",
       "      <td>_TheSpecialOne_</td>\n",
       "      <td>@switchfoot http://twitpic.com/2y1zl - Awww, that's a bummer.  You shoulda got David Carr of Third Day to do it. ;D</td>\n",
       "    </tr>\n",
       "    <tr>\n",
       "      <th>1</th>\n",
       "      <td>0</td>\n",
       "      <td>1467810672</td>\n",
       "      <td>Mon Apr 06 22:19:49 PDT 2009</td>\n",
       "      <td>NO_QUERY</td>\n",
       "      <td>scotthamilton</td>\n",
       "      <td>is upset that he can't update his Facebook by texting it... and might cry as a result  School today also. Blah!</td>\n",
       "    </tr>\n",
       "    <tr>\n",
       "      <th>2</th>\n",
       "      <td>0</td>\n",
       "      <td>1467810917</td>\n",
       "      <td>Mon Apr 06 22:19:53 PDT 2009</td>\n",
       "      <td>NO_QUERY</td>\n",
       "      <td>mattycus</td>\n",
       "      <td>@Kenichan I dived many times for the ball. Managed to save 50%  The rest go out of bounds</td>\n",
       "    </tr>\n",
       "    <tr>\n",
       "      <th>3</th>\n",
       "      <td>0</td>\n",
       "      <td>1467811184</td>\n",
       "      <td>Mon Apr 06 22:19:57 PDT 2009</td>\n",
       "      <td>NO_QUERY</td>\n",
       "      <td>ElleCTF</td>\n",
       "      <td>my whole body feels itchy and like its on fire</td>\n",
       "    </tr>\n",
       "    <tr>\n",
       "      <th>4</th>\n",
       "      <td>0</td>\n",
       "      <td>1467811193</td>\n",
       "      <td>Mon Apr 06 22:19:57 PDT 2009</td>\n",
       "      <td>NO_QUERY</td>\n",
       "      <td>Karoli</td>\n",
       "      <td>@nationwideclass no, it's not behaving at all. i'm mad. why am i here? because I can't see you all over there.</td>\n",
       "    </tr>\n",
       "  </tbody>\n",
       "</table>\n",
       "</div>"
      ],
      "text/plain": [
       "   target         ids                          date      flag  \\\n",
       "0       0  1467810369  Mon Apr 06 22:19:45 PDT 2009  NO_QUERY   \n",
       "1       0  1467810672  Mon Apr 06 22:19:49 PDT 2009  NO_QUERY   \n",
       "2       0  1467810917  Mon Apr 06 22:19:53 PDT 2009  NO_QUERY   \n",
       "3       0  1467811184  Mon Apr 06 22:19:57 PDT 2009  NO_QUERY   \n",
       "4       0  1467811193  Mon Apr 06 22:19:57 PDT 2009  NO_QUERY   \n",
       "\n",
       "              user  \\\n",
       "0  _TheSpecialOne_   \n",
       "1    scotthamilton   \n",
       "2         mattycus   \n",
       "3          ElleCTF   \n",
       "4           Karoli   \n",
       "\n",
       "                                                                                                                  text  \n",
       "0  @switchfoot http://twitpic.com/2y1zl - Awww, that's a bummer.  You shoulda got David Carr of Third Day to do it. ;D  \n",
       "1      is upset that he can't update his Facebook by texting it... and might cry as a result  School today also. Blah!  \n",
       "2                            @Kenichan I dived many times for the ball. Managed to save 50%  The rest go out of bounds  \n",
       "3                                                                      my whole body feels itchy and like its on fire   \n",
       "4      @nationwideclass no, it's not behaving at all. i'm mad. why am i here? because I can't see you all over there.   "
      ]
     },
     "execution_count": 9,
     "metadata": {},
     "output_type": "execute_result"
    }
   ],
   "source": [
    "col_names = [\"target\", \"ids\", \"date\", \"flag\", \"user\", \"text\"]\n",
    "encode = \"ISO-8859-1\"\n",
    "data = pd.read_csv('Data/training.1600000.processed.noemoticon.csv', encoding = encode, names = col_names)\n",
    "data.head()"
   ]
  },
  {
   "cell_type": "code",
   "execution_count": 10,
   "metadata": {},
   "outputs": [
    {
     "data": {
      "text/plain": [
       "(1600000, 6)"
      ]
     },
     "execution_count": 10,
     "metadata": {},
     "output_type": "execute_result"
    }
   ],
   "source": [
    "data.shape"
   ]
  },
  {
   "cell_type": "code",
   "execution_count": 11,
   "metadata": {},
   "outputs": [
    {
     "data": {
      "text/plain": [
       "target    0\n",
       "ids       0\n",
       "date      0\n",
       "flag      0\n",
       "user      0\n",
       "text      0\n",
       "dtype: int64"
      ]
     },
     "execution_count": 11,
     "metadata": {},
     "output_type": "execute_result"
    }
   ],
   "source": [
    "data.isnull().sum()"
   ]
  },
  {
   "cell_type": "markdown",
   "metadata": {},
   "source": [
    "### \"\"\"There is no missing data\"\"\""
   ]
  },
  {
   "cell_type": "code",
   "execution_count": 13,
   "metadata": {},
   "outputs": [
    {
     "data": {
      "text/plain": [
       "4    800000\n",
       "0    800000\n",
       "Name: target, dtype: int64"
      ]
     },
     "execution_count": 13,
     "metadata": {},
     "output_type": "execute_result"
    }
   ],
   "source": [
    "data['target'].value_counts()"
   ]
  },
  {
   "cell_type": "markdown",
   "metadata": {},
   "source": [
    "### \"\"\"Target has only two values 0 and 4, changing it to 0 = Negative and 4 = Positive\"\"\""
   ]
  },
  {
   "cell_type": "code",
   "execution_count": 14,
   "metadata": {
    "scrolled": true
   },
   "outputs": [
    {
     "data": {
      "text/html": [
       "<div>\n",
       "<style scoped>\n",
       "    .dataframe tbody tr th:only-of-type {\n",
       "        vertical-align: middle;\n",
       "    }\n",
       "\n",
       "    .dataframe tbody tr th {\n",
       "        vertical-align: top;\n",
       "    }\n",
       "\n",
       "    .dataframe thead th {\n",
       "        text-align: right;\n",
       "    }\n",
       "</style>\n",
       "<table border=\"1\" class=\"dataframe\">\n",
       "  <thead>\n",
       "    <tr style=\"text-align: right;\">\n",
       "      <th></th>\n",
       "      <th>target</th>\n",
       "      <th>ids</th>\n",
       "      <th>date</th>\n",
       "      <th>flag</th>\n",
       "      <th>user</th>\n",
       "      <th>text</th>\n",
       "      <th>new_target</th>\n",
       "    </tr>\n",
       "  </thead>\n",
       "  <tbody>\n",
       "    <tr>\n",
       "      <th>0</th>\n",
       "      <td>0</td>\n",
       "      <td>1467810369</td>\n",
       "      <td>Mon Apr 06 22:19:45 PDT 2009</td>\n",
       "      <td>NO_QUERY</td>\n",
       "      <td>_TheSpecialOne_</td>\n",
       "      <td>@switchfoot http://twitpic.com/2y1zl - Awww, that's a bummer.  You shoulda got David Carr of Third Day to do it. ;D</td>\n",
       "      <td>Negative</td>\n",
       "    </tr>\n",
       "    <tr>\n",
       "      <th>1</th>\n",
       "      <td>0</td>\n",
       "      <td>1467810672</td>\n",
       "      <td>Mon Apr 06 22:19:49 PDT 2009</td>\n",
       "      <td>NO_QUERY</td>\n",
       "      <td>scotthamilton</td>\n",
       "      <td>is upset that he can't update his Facebook by texting it... and might cry as a result  School today also. Blah!</td>\n",
       "      <td>Negative</td>\n",
       "    </tr>\n",
       "    <tr>\n",
       "      <th>2</th>\n",
       "      <td>0</td>\n",
       "      <td>1467810917</td>\n",
       "      <td>Mon Apr 06 22:19:53 PDT 2009</td>\n",
       "      <td>NO_QUERY</td>\n",
       "      <td>mattycus</td>\n",
       "      <td>@Kenichan I dived many times for the ball. Managed to save 50%  The rest go out of bounds</td>\n",
       "      <td>Negative</td>\n",
       "    </tr>\n",
       "    <tr>\n",
       "      <th>3</th>\n",
       "      <td>0</td>\n",
       "      <td>1467811184</td>\n",
       "      <td>Mon Apr 06 22:19:57 PDT 2009</td>\n",
       "      <td>NO_QUERY</td>\n",
       "      <td>ElleCTF</td>\n",
       "      <td>my whole body feels itchy and like its on fire</td>\n",
       "      <td>Negative</td>\n",
       "    </tr>\n",
       "    <tr>\n",
       "      <th>4</th>\n",
       "      <td>0</td>\n",
       "      <td>1467811193</td>\n",
       "      <td>Mon Apr 06 22:19:57 PDT 2009</td>\n",
       "      <td>NO_QUERY</td>\n",
       "      <td>Karoli</td>\n",
       "      <td>@nationwideclass no, it's not behaving at all. i'm mad. why am i here? because I can't see you all over there.</td>\n",
       "      <td>Negative</td>\n",
       "    </tr>\n",
       "  </tbody>\n",
       "</table>\n",
       "</div>"
      ],
      "text/plain": [
       "   target         ids                          date      flag  \\\n",
       "0       0  1467810369  Mon Apr 06 22:19:45 PDT 2009  NO_QUERY   \n",
       "1       0  1467810672  Mon Apr 06 22:19:49 PDT 2009  NO_QUERY   \n",
       "2       0  1467810917  Mon Apr 06 22:19:53 PDT 2009  NO_QUERY   \n",
       "3       0  1467811184  Mon Apr 06 22:19:57 PDT 2009  NO_QUERY   \n",
       "4       0  1467811193  Mon Apr 06 22:19:57 PDT 2009  NO_QUERY   \n",
       "\n",
       "              user  \\\n",
       "0  _TheSpecialOne_   \n",
       "1    scotthamilton   \n",
       "2         mattycus   \n",
       "3          ElleCTF   \n",
       "4           Karoli   \n",
       "\n",
       "                                                                                                                  text  \\\n",
       "0  @switchfoot http://twitpic.com/2y1zl - Awww, that's a bummer.  You shoulda got David Carr of Third Day to do it. ;D   \n",
       "1      is upset that he can't update his Facebook by texting it... and might cry as a result  School today also. Blah!   \n",
       "2                            @Kenichan I dived many times for the ball. Managed to save 50%  The rest go out of bounds   \n",
       "3                                                                      my whole body feels itchy and like its on fire    \n",
       "4      @nationwideclass no, it's not behaving at all. i'm mad. why am i here? because I can't see you all over there.    \n",
       "\n",
       "  new_target  \n",
       "0   Negative  \n",
       "1   Negative  \n",
       "2   Negative  \n",
       "3   Negative  \n",
       "4   Negative  "
      ]
     },
     "execution_count": 14,
     "metadata": {},
     "output_type": "execute_result"
    }
   ],
   "source": [
    "data['new_target'] = data['target'].apply(lambda x : 'Negative' if x == 0 else 'Positive')\n",
    "data.head()"
   ]
  },
  {
   "cell_type": "code",
   "execution_count": 15,
   "metadata": {},
   "outputs": [
    {
     "data": {
      "text/plain": [
       "NO_QUERY    1600000\n",
       "Name: flag, dtype: int64"
      ]
     },
     "execution_count": 15,
     "metadata": {},
     "output_type": "execute_result"
    }
   ],
   "source": [
    "data['flag'].value_counts()"
   ]
  },
  {
   "cell_type": "code",
   "execution_count": 41,
   "metadata": {},
   "outputs": [
    {
     "data": {
      "text/plain": [
       "machoo92           3\n",
       "bonsaistudio       3\n",
       "gondolin           3\n",
       "officialjessie     3\n",
       "SarahFaasse        3\n",
       "                  ..\n",
       "SNLindy            1\n",
       "souulm             1\n",
       "janekim1001        1\n",
       "Mar_va_lous        1\n",
       "themonkeymaster    1\n",
       "Name: user, Length: 559775, dtype: int64"
      ]
     },
     "execution_count": 41,
     "metadata": {},
     "output_type": "execute_result"
    }
   ],
   "source": [
    "data['user'].value_counts()[100000:]"
   ]
  },
  {
   "cell_type": "code",
   "execution_count": 42,
   "metadata": {},
   "outputs": [
    {
     "data": {
      "text/html": [
       "<div>\n",
       "<style scoped>\n",
       "    .dataframe tbody tr th:only-of-type {\n",
       "        vertical-align: middle;\n",
       "    }\n",
       "\n",
       "    .dataframe tbody tr th {\n",
       "        vertical-align: top;\n",
       "    }\n",
       "\n",
       "    .dataframe thead th {\n",
       "        text-align: right;\n",
       "    }\n",
       "</style>\n",
       "<table border=\"1\" class=\"dataframe\">\n",
       "  <thead>\n",
       "    <tr style=\"text-align: right;\">\n",
       "      <th></th>\n",
       "      <th>text</th>\n",
       "      <th>new_target</th>\n",
       "    </tr>\n",
       "  </thead>\n",
       "  <tbody>\n",
       "    <tr>\n",
       "      <th>0</th>\n",
       "      <td>@switchfoot http://twitpic.com/2y1zl - Awww, that's a bummer.  You shoulda got David Carr of Third Day to do it. ;D</td>\n",
       "      <td>Negative</td>\n",
       "    </tr>\n",
       "    <tr>\n",
       "      <th>1</th>\n",
       "      <td>is upset that he can't update his Facebook by texting it... and might cry as a result  School today also. Blah!</td>\n",
       "      <td>Negative</td>\n",
       "    </tr>\n",
       "    <tr>\n",
       "      <th>2</th>\n",
       "      <td>@Kenichan I dived many times for the ball. Managed to save 50%  The rest go out of bounds</td>\n",
       "      <td>Negative</td>\n",
       "    </tr>\n",
       "    <tr>\n",
       "      <th>3</th>\n",
       "      <td>my whole body feels itchy and like its on fire</td>\n",
       "      <td>Negative</td>\n",
       "    </tr>\n",
       "    <tr>\n",
       "      <th>4</th>\n",
       "      <td>@nationwideclass no, it's not behaving at all. i'm mad. why am i here? because I can't see you all over there.</td>\n",
       "      <td>Negative</td>\n",
       "    </tr>\n",
       "  </tbody>\n",
       "</table>\n",
       "</div>"
      ],
      "text/plain": [
       "                                                                                                                  text  \\\n",
       "0  @switchfoot http://twitpic.com/2y1zl - Awww, that's a bummer.  You shoulda got David Carr of Third Day to do it. ;D   \n",
       "1      is upset that he can't update his Facebook by texting it... and might cry as a result  School today also. Blah!   \n",
       "2                            @Kenichan I dived many times for the ball. Managed to save 50%  The rest go out of bounds   \n",
       "3                                                                      my whole body feels itchy and like its on fire    \n",
       "4      @nationwideclass no, it's not behaving at all. i'm mad. why am i here? because I can't see you all over there.    \n",
       "\n",
       "  new_target  \n",
       "0   Negative  \n",
       "1   Negative  \n",
       "2   Negative  \n",
       "3   Negative  \n",
       "4   Negative  "
      ]
     },
     "execution_count": 42,
     "metadata": {},
     "output_type": "execute_result"
    }
   ],
   "source": [
    "df = data[['text', 'new_target']].copy()\n",
    "df.head()"
   ]
  },
  {
   "cell_type": "code",
   "execution_count": 66,
   "metadata": {},
   "outputs": [
    {
     "data": {
      "text/plain": [
       "\"@switchfoot http://twitpic.com/2y1zl - Awww, that's a bummer.  You shoulda got David Carr of Third Day to do it. ;D\""
      ]
     },
     "execution_count": 66,
     "metadata": {},
     "output_type": "execute_result"
    }
   ],
   "source": [
    "df['text'][0]"
   ]
  },
  {
   "cell_type": "markdown",
   "metadata": {},
   "source": [
    "### Text Preprocessing"
   ]
  },
  {
   "cell_type": "code",
   "execution_count": 44,
   "metadata": {},
   "outputs": [
    {
     "name": "stdout",
     "output_type": "stream",
     "text": [
      "['!', '\"', '#', '$', '%', '&', \"'\", '(', ')', '*', '+', ',', '-', '.', '/', ':', ';', '<', '=', '>', '?', '@', '[', '\\\\', ']', '^', '_', '`', '{', '|', '}', '~']\n"
     ]
    }
   ],
   "source": [
    "import string\n",
    "punc = list(string.punctuation)\n",
    "print(punc)"
   ]
  },
  {
   "cell_type": "markdown",
   "metadata": {},
   "source": [
    "### Remove Urls"
   ]
  },
  {
   "cell_type": "code",
   "execution_count": 111,
   "metadata": {},
   "outputs": [],
   "source": [
    "def remove_urls(text):\n",
    "    text = re.sub(r'https?:\\/\\/\\S*| www\\.\\S*', '', text, flags=re.MULTILINE)\n",
    "    return text"
   ]
  },
  {
   "cell_type": "code",
   "execution_count": 112,
   "metadata": {},
   "outputs": [],
   "source": [
    "sample = \"@switchfoot http://twitpic.com/2y1zl - Awww, that's a bummer.  You shoulda got David Carr of Third Day to do it. ;D\"\n"
   ]
  },
  {
   "cell_type": "code",
   "execution_count": 113,
   "metadata": {},
   "outputs": [
    {
     "data": {
      "text/plain": [
       "\"@switchfoot  - Awww, that's a bummer.  You shoulda got David Carr of Third Day to do it. ;D\""
      ]
     },
     "execution_count": 113,
     "metadata": {},
     "output_type": "execute_result"
    }
   ],
   "source": [
    "remove_urls(sample)"
   ]
  },
  {
   "cell_type": "markdown",
   "metadata": {},
   "source": [
    "- r The solution is to use Python’s raw string notation for regular expression patterns; backslashes are not handled in any special way in a string literal prefixed with 'r'\n",
    "- ? Causes the resulting RE to match 0 or 1 repetitions of the preceding RE. https? will match either ‘http’ or ‘https’.\n",
    "- https?:\\/\\/ will match any \"http://\" and \"https://\" in string\n",
    "- \\S Returns a match where the string DOES NOT contain a white space character\n",
    "- * Zero or more occurrences"
   ]
  },
  {
   "cell_type": "code",
   "execution_count": 106,
   "metadata": {},
   "outputs": [
    {
     "data": {
      "text/html": [
       "<div>\n",
       "<style scoped>\n",
       "    .dataframe tbody tr th:only-of-type {\n",
       "        vertical-align: middle;\n",
       "    }\n",
       "\n",
       "    .dataframe tbody tr th {\n",
       "        vertical-align: top;\n",
       "    }\n",
       "\n",
       "    .dataframe thead th {\n",
       "        text-align: right;\n",
       "    }\n",
       "</style>\n",
       "<table border=\"1\" class=\"dataframe\">\n",
       "  <thead>\n",
       "    <tr style=\"text-align: right;\">\n",
       "      <th></th>\n",
       "      <th>text</th>\n",
       "      <th>new_target</th>\n",
       "    </tr>\n",
       "  </thead>\n",
       "  <tbody>\n",
       "    <tr>\n",
       "      <th>0</th>\n",
       "      <td>@switchfoot  - Awww, that's a bummer.  You shoulda got David Carr of Third Day to do it. ;D</td>\n",
       "      <td>Negative</td>\n",
       "    </tr>\n",
       "    <tr>\n",
       "      <th>1</th>\n",
       "      <td>is upset that he can't update his Facebook by texting it... and might cry as a result  School today also. Blah!</td>\n",
       "      <td>Negative</td>\n",
       "    </tr>\n",
       "    <tr>\n",
       "      <th>2</th>\n",
       "      <td>@Kenichan I dived many times for the ball. Managed to save 50%  The rest go out of bounds</td>\n",
       "      <td>Negative</td>\n",
       "    </tr>\n",
       "    <tr>\n",
       "      <th>3</th>\n",
       "      <td>my whole body feels itchy and like its on fire</td>\n",
       "      <td>Negative</td>\n",
       "    </tr>\n",
       "    <tr>\n",
       "      <th>4</th>\n",
       "      <td>@nationwideclass no, it's not behaving at all. i'm mad. why am i here? because I can't see you all over there.</td>\n",
       "      <td>Negative</td>\n",
       "    </tr>\n",
       "  </tbody>\n",
       "</table>\n",
       "</div>"
      ],
      "text/plain": [
       "                                                                                                              text  \\\n",
       "0                      @switchfoot  - Awww, that's a bummer.  You shoulda got David Carr of Third Day to do it. ;D   \n",
       "1  is upset that he can't update his Facebook by texting it... and might cry as a result  School today also. Blah!   \n",
       "2                        @Kenichan I dived many times for the ball. Managed to save 50%  The rest go out of bounds   \n",
       "3                                                                  my whole body feels itchy and like its on fire    \n",
       "4  @nationwideclass no, it's not behaving at all. i'm mad. why am i here? because I can't see you all over there.    \n",
       "\n",
       "  new_target  \n",
       "0   Negative  \n",
       "1   Negative  \n",
       "2   Negative  \n",
       "3   Negative  \n",
       "4   Negative  "
      ]
     },
     "execution_count": 106,
     "metadata": {},
     "output_type": "execute_result"
    }
   ],
   "source": [
    "df['text'] = df['text'].apply(remove_urls)\n",
    "df.head()"
   ]
  },
  {
   "cell_type": "markdown",
   "metadata": {},
   "source": [
    "### Remove all @Words and all #Words"
   ]
  },
  {
   "cell_type": "code",
   "execution_count": 107,
   "metadata": {},
   "outputs": [],
   "source": [
    "def remove_sym_words(text):\n",
    "    text = re.sub(r'@\\w*\\S| #\\w*\\S', ' ', text)\n",
    "    return text"
   ]
  },
  {
   "cell_type": "code",
   "execution_count": 109,
   "metadata": {},
   "outputs": [
    {
     "data": {
      "text/plain": [
       "\"  http://twitpic.com/2y1zl - Awww, that's a bummer.  You shoulda got David Carr of Third Day to do it. ;D\""
      ]
     },
     "execution_count": 109,
     "metadata": {},
     "output_type": "execute_result"
    }
   ],
   "source": [
    "sample = \"@switchfoot http://twitpic.com/2y1zl - Awww, that's a bummer. #Country You shoulda got David Carr of Third Day to do it. ;D\"\n",
    "remove_sym_words(sample)"
   ]
  },
  {
   "cell_type": "code",
   "execution_count": 110,
   "metadata": {},
   "outputs": [
    {
     "data": {
      "text/html": [
       "<div>\n",
       "<style scoped>\n",
       "    .dataframe tbody tr th:only-of-type {\n",
       "        vertical-align: middle;\n",
       "    }\n",
       "\n",
       "    .dataframe tbody tr th {\n",
       "        vertical-align: top;\n",
       "    }\n",
       "\n",
       "    .dataframe thead th {\n",
       "        text-align: right;\n",
       "    }\n",
       "</style>\n",
       "<table border=\"1\" class=\"dataframe\">\n",
       "  <thead>\n",
       "    <tr style=\"text-align: right;\">\n",
       "      <th></th>\n",
       "      <th>text</th>\n",
       "      <th>new_target</th>\n",
       "    </tr>\n",
       "  </thead>\n",
       "  <tbody>\n",
       "    <tr>\n",
       "      <th>0</th>\n",
       "      <td>- Awww, that's a bummer.  You shoulda got David Carr of Third Day to do it. ;D</td>\n",
       "      <td>Negative</td>\n",
       "    </tr>\n",
       "    <tr>\n",
       "      <th>1</th>\n",
       "      <td>is upset that he can't update his Facebook by texting it... and might cry as a result  School today also. Blah!</td>\n",
       "      <td>Negative</td>\n",
       "    </tr>\n",
       "    <tr>\n",
       "      <th>2</th>\n",
       "      <td>I dived many times for the ball. Managed to save 50%  The rest go out of bounds</td>\n",
       "      <td>Negative</td>\n",
       "    </tr>\n",
       "    <tr>\n",
       "      <th>3</th>\n",
       "      <td>my whole body feels itchy and like its on fire</td>\n",
       "      <td>Negative</td>\n",
       "    </tr>\n",
       "    <tr>\n",
       "      <th>4</th>\n",
       "      <td>no, it's not behaving at all. i'm mad. why am i here? because I can't see you all over there.</td>\n",
       "      <td>Negative</td>\n",
       "    </tr>\n",
       "  </tbody>\n",
       "</table>\n",
       "</div>"
      ],
      "text/plain": [
       "                                                                                                              text  \\\n",
       "0                                   - Awww, that's a bummer.  You shoulda got David Carr of Third Day to do it. ;D   \n",
       "1  is upset that he can't update his Facebook by texting it... and might cry as a result  School today also. Blah!   \n",
       "2                                  I dived many times for the ball. Managed to save 50%  The rest go out of bounds   \n",
       "3                                                                  my whole body feels itchy and like its on fire    \n",
       "4                   no, it's not behaving at all. i'm mad. why am i here? because I can't see you all over there.    \n",
       "\n",
       "  new_target  \n",
       "0   Negative  \n",
       "1   Negative  \n",
       "2   Negative  \n",
       "3   Negative  \n",
       "4   Negative  "
      ]
     },
     "execution_count": 110,
     "metadata": {},
     "output_type": "execute_result"
    }
   ],
   "source": [
    "df['text'] = df['text'].apply(remove_sym_words)\n",
    "df.head()"
   ]
  },
  {
   "cell_type": "markdown",
   "metadata": {},
   "source": [
    "### Identifying all Emojis"
   ]
  },
  {
   "cell_type": "code",
   "execution_count": 114,
   "metadata": {},
   "outputs": [
    {
     "data": {
      "text/plain": [
       "[(85428, '; '),\n",
       " (34979, 'x '),\n",
       " (32138, 'xt'),\n",
       " (29294, ': '),\n",
       " (18844, 'xc'),\n",
       " (15097, 'xa'),\n",
       " (14163, ';3'),\n",
       " (13751, 'xx'),\n",
       " (10904, 'xp'),\n",
       " (9724, 'xi'),\n",
       " (7697, ';)'),\n",
       " (7447, 'xo'),\n",
       " (5789, 'xe'),\n",
       " (4440, ':3'),\n",
       " (3732, ';.'),\n",
       " (3078, 'x.'),\n",
       " (2950, ':/'),\n",
       " (2778, 'xh'),\n",
       " (2687, 'xD'),\n",
       " (2676, 'X '),\n",
       " (2495, 'xy'),\n",
       " (2416, ';-'),\n",
       " (2340, ';t'),\n",
       " (2215, ';I'),\n",
       " (2164, ';s'),\n",
       " (2024, ':-'),\n",
       " (1936, \":'\"),\n",
       " (1769, ':p'),\n",
       " (1720, ':O'),\n",
       " (1712, 'XD'),\n",
       " (1707, ':|'),\n",
       " (1665, ';D'),\n",
       " (1639, ':0'),\n",
       " (1513, ';S'),\n",
       " (1467, \":'(\"),\n",
       " (1445, ':S'),\n",
       " (1426, 'x!'),\n",
       " (1393, ';i'),\n",
       " (1327, 'xI'),\n",
       " (1233, ';m'),\n",
       " (1214, ';b'),\n",
       " (1190, ':1'),\n",
       " (1184, 'x,'),\n",
       " (1171, '::'),\n",
       " (1157, ';p'),\n",
       " (1123, ';-)'),\n",
       " (1068, ';a'),\n",
       " (1041, ':]'),\n",
       " (950, 'xb'),\n",
       " (950, ';d'),\n",
       " (875, ';P'),\n",
       " (865, 'Xx'),\n",
       " (800, 'XO'),\n",
       " (798, ';L'),\n",
       " (791, ';o'),\n",
       " (770, ':L'),\n",
       " (743, 'xs'),\n",
       " (725, ';r'),\n",
       " (669, ':o'),\n",
       " (623, 'XX'),\n",
       " (577, ';O'),\n",
       " (566, ';/'),\n",
       " (551, 'x-'),\n",
       " (548, 'XT'),\n",
       " (530, 'xm'),\n",
       " (516, ':s'),\n",
       " (515, ':-D'),\n",
       " (490, ':5'),\n",
       " (476, 'XC'),\n",
       " (452, 'Xb'),\n",
       " (440, ';;'),\n",
       " (437, 'x?'),\n",
       " (430, 'XA'),\n",
       " (412, ':\\\\'),\n",
       " (404, ':-/'),\n",
       " (388, \"x'\"),\n",
       " (387, ':@'),\n",
       " (386, 'XP'),\n",
       " (383, 'xO'),\n",
       " (379, 'xf'),\n",
       " (369, 'xA'),\n",
       " (361, ';('),\n",
       " (319, 'Xo'),\n",
       " (319, 'X-'),\n",
       " (311, 'x)'),\n",
       " (306, 'XI'),\n",
       " (303, ':*'),\n",
       " (281, \"x's\"),\n",
       " (281, 'X.'),\n",
       " (280, 'xl'),\n",
       " (255, 'xP'),\n",
       " (243, 'xd'),\n",
       " (237, 'xC'),\n",
       " (236, 'xX'),\n",
       " (235, ':-P'),\n",
       " (223, 'xB'),\n",
       " (213, ':['),\n",
       " (210, 'XB'),\n",
       " (206, 'xF'),\n",
       " (205, \":')\"),\n",
       " (203, 'x3'),\n",
       " (197, ':I'),\n",
       " (195, 'X!'),\n",
       " (194, ':$'),\n",
       " (176, ':l'),\n",
       " (171, ';]'),\n",
       " (161, ':.'),\n",
       " (158, 'XM'),\n",
       " (155, ';*'),\n",
       " (154, 'xr'),\n",
       " (144, ':-p'),\n",
       " (136, 'x2'),\n",
       " (134, 'x1'),\n",
       " (133, 'xR'),\n",
       " (126, ':i'),\n",
       " (119, 'Xa'),\n",
       " (118, ':x'),\n",
       " (118, ':d'),\n",
       " (117, 'x]'),\n",
       " (117, 'XY'),\n",
       " (111, 'XS'),\n",
       " (111, ';~'),\n",
       " (110, 'Xi'),\n",
       " (109, 'X1'),\n",
       " (106, ':X'),\n",
       " (105, 'x:'),\n",
       " (100, ':A'),\n",
       " (97, ':B'),\n",
       " (96, 'X,'),\n",
       " (96, ':T'),\n",
       " (92, 'x0'),\n",
       " (89, 'xY'),\n",
       " (89, 'XL'),\n",
       " (84, ':b'),\n",
       " (80, ':c'),\n",
       " (78, 'xU'),\n",
       " (78, ':-*'),\n",
       " (75, ':W'),\n",
       " (73, 'x/'),\n",
       " (71, 'xk'),\n",
       " (71, ':-|'),\n",
       " (71, ':-O'),\n",
       " (65, ':C'),\n",
       " (60, 'x4'),\n",
       " (60, ':H'),\n",
       " (59, 'x('),\n",
       " (59, ':-S'),\n",
       " (58, ':-\\\\'),\n",
       " (55, 'X?'),\n",
       " (55, ':G'),\n",
       " (55, \":'D\"),\n",
       " (51, ':-o'),\n",
       " (47, ':}'),\n",
       " (47, ':,'),\n",
       " (44, ':^'),\n",
       " (43, 'X3'),\n",
       " (43, ';|'),\n",
       " (43, ':9'),\n",
       " (41, 'XN'),\n",
       " (41, \"X'\"),\n",
       " (41, ':-s'),\n",
       " (40, 'x6'),\n",
       " (39, ';-('),\n",
       " (38, 'XF'),\n",
       " (38, ';['),\n",
       " (38, ':F'),\n",
       " (37, 'xq'),\n",
       " (37, 'x5'),\n",
       " (37, ':R'),\n",
       " (36, 'x7'),\n",
       " (35, 'Xs'),\n",
       " (35, 'Xp'),\n",
       " (34, 'X)'),\n",
       " (34, ';X'),\n",
       " (34, ';0'),\n",
       " (33, 'x8'),\n",
       " (33, 'x*'),\n",
       " (33, ';x'),\n",
       " (32, ';-p'),\n",
       " (32, ':~'),\n",
       " (32, ':?'),\n",
       " (31, 'X2'),\n",
       " (30, ';9'),\n",
       " (29, 'XU'),\n",
       " (28, ':E'),\n",
       " (27, 'x;'),\n",
       " (27, \";' \"),\n",
       " (27, ':U'),\n",
       " (26, 'x9'),\n",
       " (26, 'x- '),\n",
       " (26, ';-D'),\n",
       " (26, ':y'),\n",
       " (25, ':Y'),\n",
       " (24, 'X('),\n",
       " (24, ':- '),\n",
       " (23, ':-0'),\n",
       " (22, ';\\\\'),\n",
       " (22, ';-P'),\n",
       " (21, ':-}'),\n",
       " (21, \":']\"),\n",
       " (20, 'X0'),\n",
       " (20, ';@'),\n",
       " (19, \"X's\"),\n",
       " (19, ':K'),\n",
       " (19, ':-j'),\n",
       " (19, ':-?'),\n",
       " (19, ':!'),\n",
       " (18, 'XJ'),\n",
       " (18, ':{'),\n",
       " (18, \":'[\"),\n",
       " (17, 'x@'),\n",
       " (17, ':Z'),\n",
       " (16, 'X4'),\n",
       " (16, ':8'),\n",
       " (15, 'X:'),\n",
       " (15, 'X-('),\n",
       " (15, ':-h'),\n",
       " (14, 'x--'),\n",
       " (14, \"x'D\"),\n",
       " (14, 'X]'),\n",
       " (14, ':-X'),\n",
       " (13, \"x'd\"),\n",
       " (13, 'X5'),\n",
       " (13, 'X/'),\n",
       " (13, ';-;'),\n",
       " (12, 'x['),\n",
       " (12, 'XQ'),\n",
       " (11, ':_'),\n",
       " (11, ':-['),\n",
       " (10, ';}'),\n",
       " (10, \":'/\"),\n",
       " (9, \";'(\"),\n",
       " (8, ':;'),\n",
       " (8, ':-w'),\n",
       " (8, ':-@'),\n",
       " (7, 'x-x'),\n",
       " (7, 'XV'),\n",
       " (7, ';-o'),\n",
       " (7, ':-x'),\n",
       " (7, ':-!'),\n",
       " (6, 'x|'),\n",
       " (6, \"X'S\"),\n",
       " (6, \":'|\"),\n",
       " (5, 'X='),\n",
       " (5, ';-b'),\n",
       " (5, ':-]'),\n",
       " (5, \":'o\"),\n",
       " (4, 'x-D'),\n",
       " (4, 'X;'),\n",
       " (4, ';-]'),\n",
       " (4, ';-/'),\n",
       " (4, \";'D\"),\n",
       " (4, \";')\"),\n",
       " (4, ':z'),\n",
       " (4, ':-l'),\n",
       " (4, ':-L'),\n",
       " (4, ':-$'),\n",
       " (3, 'x-y'),\n",
       " (3, 'x-('),\n",
       " (3, 'X-2'),\n",
       " (3, ';-O'),\n",
       " (3, ';-3'),\n",
       " (3, ';-0'),\n",
       " (3, ':q'),\n",
       " (3, ':Q'),\n",
       " (3, ':-B'),\n",
       " (2, \"x'a\"),\n",
       " (2, \"x')\"),\n",
       " (2, \"X'd\"),\n",
       " (2, \"X'D\"),\n",
       " (2, \";'[\"),\n",
       " (2, ':-I'),\n",
       " (2, ':-C'),\n",
       " (2, ':-3'),\n",
       " (2, ':-#'),\n",
       " (1, 'x-2'),\n",
       " (1, 'x-)'),\n",
       " (1, 'X}'),\n",
       " (1, 'X|'),\n",
       " (1, 'X-X'),\n",
       " (1, \"X'(\"),\n",
       " (1, ';-}'),\n",
       " (1, ';-|'),\n",
       " (1, ';-{'),\n",
       " (1, ';-Q'),\n",
       " (1, ';-:'),\n",
       " (1, ':-^'),\n",
       " (1, ':-W'),\n",
       " (1, ':-T'),\n",
       " (1, ':-9'),\n",
       " (1, ':-,'),\n",
       " (1, \":'}\"),\n",
       " (1, \":'{\"),\n",
       " (1, \":'T\"),\n",
       " (1, \":'C\")]"
      ]
     },
     "execution_count": 114,
     "metadata": {},
     "output_type": "execute_result"
    }
   ],
   "source": [
    "import re\n",
    "tweets_text = df.text.str.cat()\n",
    "emos = set(re.findall(r\" ([xX:;][-']?.) \",tweets_text))\n",
    "emos_count = []\n",
    "for emo in emos:\n",
    "    emos_count.append((tweets_text.count(emo), emo))\n",
    "sorted(emos_count,reverse=True)"
   ]
  },
  {
   "cell_type": "code",
   "execution_count": 115,
   "metadata": {},
   "outputs": [
    {
     "name": "stdout",
     "output_type": "stream",
     "text": [
      "Happy emoticons: {':-D', ';p', ';P', 'x-D', ':d', ';-D', 'X)', ':p', 'x-)', 'xD', ';d', ';)', 'x)', 'xd', ';-)', ';D', 'XD'}\n",
      "Sad emoticons: {':|', \":'/\", \":'(\", \":'|\", ':/'}\n"
     ]
    }
   ],
   "source": [
    "HAPPY_EMO = r\" ([xX;:]-?[dD)]|:-?[\\)]|[;:][pP]) \"\n",
    "SAD_EMO = r\" (:'?[/|\\(]) \"\n",
    "print(\"Happy emoticons:\", set(re.findall(HAPPY_EMO, tweets_text)))\n",
    "print(\"Sad emoticons:\", set(re.findall(SAD_EMO, tweets_text)))"
   ]
  },
  {
   "cell_type": "code",
   "execution_count": 132,
   "metadata": {},
   "outputs": [],
   "source": [
    "happy_emo = [':-D', ';p', ';P', 'x-D', ':d', ';-D', 'X)', ':p', 'x-)', 'xD', ';d', ';)', 'x)', 'xd', ';-)', ';D', 'XD']\n",
    "sad_emo = [':|', \":'/\", \":'(\", \":'|\", ':/']"
   ]
  },
  {
   "cell_type": "code",
   "execution_count": 133,
   "metadata": {},
   "outputs": [],
   "source": [
    "emo = happy_emo + sad_emo\n",
    "def remove_emo(text):\n",
    "    text = [i for i in text.split() if i not in emo ]\n",
    "    text = ' '.join(text)\n",
    "    return text"
   ]
  },
  {
   "cell_type": "code",
   "execution_count": 134,
   "metadata": {},
   "outputs": [
    {
     "data": {
      "text/plain": [
       "\"- Awww, that's a bummer. You shoulda got David Carr of Third Day to do it.\""
      ]
     },
     "execution_count": 134,
     "metadata": {},
     "output_type": "execute_result"
    }
   ],
   "source": [
    "sample = \"- Awww, that's a bummer. You shoulda got David Carr of Third Day to do it. ;D\"\n",
    "remove_emo(sample)"
   ]
  },
  {
   "cell_type": "code",
   "execution_count": 135,
   "metadata": {},
   "outputs": [
    {
     "data": {
      "text/html": [
       "<div>\n",
       "<style scoped>\n",
       "    .dataframe tbody tr th:only-of-type {\n",
       "        vertical-align: middle;\n",
       "    }\n",
       "\n",
       "    .dataframe tbody tr th {\n",
       "        vertical-align: top;\n",
       "    }\n",
       "\n",
       "    .dataframe thead th {\n",
       "        text-align: right;\n",
       "    }\n",
       "</style>\n",
       "<table border=\"1\" class=\"dataframe\">\n",
       "  <thead>\n",
       "    <tr style=\"text-align: right;\">\n",
       "      <th></th>\n",
       "      <th>text</th>\n",
       "      <th>new_target</th>\n",
       "    </tr>\n",
       "  </thead>\n",
       "  <tbody>\n",
       "    <tr>\n",
       "      <th>0</th>\n",
       "      <td>- Awww, that's a bummer. You shoulda got David Carr of Third Day to do it.</td>\n",
       "      <td>Negative</td>\n",
       "    </tr>\n",
       "    <tr>\n",
       "      <th>1</th>\n",
       "      <td>is upset that he can't update his Facebook by texting it... and might cry as a result School today also. Blah!</td>\n",
       "      <td>Negative</td>\n",
       "    </tr>\n",
       "    <tr>\n",
       "      <th>2</th>\n",
       "      <td>I dived many times for the ball. Managed to save 50% The rest go out of bounds</td>\n",
       "      <td>Negative</td>\n",
       "    </tr>\n",
       "    <tr>\n",
       "      <th>3</th>\n",
       "      <td>my whole body feels itchy and like its on fire</td>\n",
       "      <td>Negative</td>\n",
       "    </tr>\n",
       "    <tr>\n",
       "      <th>4</th>\n",
       "      <td>no, it's not behaving at all. i'm mad. why am i here? because I can't see you all over there.</td>\n",
       "      <td>Negative</td>\n",
       "    </tr>\n",
       "  </tbody>\n",
       "</table>\n",
       "</div>"
      ],
      "text/plain": [
       "                                                                                                             text  \\\n",
       "0                                      - Awww, that's a bummer. You shoulda got David Carr of Third Day to do it.   \n",
       "1  is upset that he can't update his Facebook by texting it... and might cry as a result School today also. Blah!   \n",
       "2                                  I dived many times for the ball. Managed to save 50% The rest go out of bounds   \n",
       "3                                                                  my whole body feels itchy and like its on fire   \n",
       "4                   no, it's not behaving at all. i'm mad. why am i here? because I can't see you all over there.   \n",
       "\n",
       "  new_target  \n",
       "0   Negative  \n",
       "1   Negative  \n",
       "2   Negative  \n",
       "3   Negative  \n",
       "4   Negative  "
      ]
     },
     "execution_count": 135,
     "metadata": {},
     "output_type": "execute_result"
    }
   ],
   "source": [
    "df['text'] = df['text'].apply(remove_emo)\n",
    "df.head()"
   ]
  },
  {
   "cell_type": "markdown",
   "metadata": {},
   "source": [
    "### Remove Accented Text"
   ]
  },
  {
   "cell_type": "code",
   "execution_count": 117,
   "metadata": {},
   "outputs": [],
   "source": [
    "import unicodedata\n",
    "\n",
    "def remove_accented(text):\n",
    "    text = unicodedata.normalize(\"NFKD\", text ).encode('ascii', 'ignore').decode('utf-8', 'ignore')\n",
    "    return text"
   ]
  },
  {
   "cell_type": "code",
   "execution_count": 122,
   "metadata": {},
   "outputs": [
    {
     "data": {
      "text/plain": [
       "'remove accented characters from text, e.g. cafe'"
      ]
     },
     "execution_count": 122,
     "metadata": {},
     "output_type": "execute_result"
    }
   ],
   "source": [
    "sample = 'remove accented characters from text, e.g. café'\n",
    "remove_accented(sample)"
   ]
  },
  {
   "cell_type": "code",
   "execution_count": 123,
   "metadata": {},
   "outputs": [
    {
     "data": {
      "text/html": [
       "<div>\n",
       "<style scoped>\n",
       "    .dataframe tbody tr th:only-of-type {\n",
       "        vertical-align: middle;\n",
       "    }\n",
       "\n",
       "    .dataframe tbody tr th {\n",
       "        vertical-align: top;\n",
       "    }\n",
       "\n",
       "    .dataframe thead th {\n",
       "        text-align: right;\n",
       "    }\n",
       "</style>\n",
       "<table border=\"1\" class=\"dataframe\">\n",
       "  <thead>\n",
       "    <tr style=\"text-align: right;\">\n",
       "      <th></th>\n",
       "      <th>text</th>\n",
       "      <th>new_target</th>\n",
       "    </tr>\n",
       "  </thead>\n",
       "  <tbody>\n",
       "    <tr>\n",
       "      <th>0</th>\n",
       "      <td>- Awww, that's a bummer.  You shoulda got David Carr of Third Day to do it. ;D</td>\n",
       "      <td>Negative</td>\n",
       "    </tr>\n",
       "    <tr>\n",
       "      <th>1</th>\n",
       "      <td>is upset that he can't update his Facebook by texting it... and might cry as a result  School today also. Blah!</td>\n",
       "      <td>Negative</td>\n",
       "    </tr>\n",
       "    <tr>\n",
       "      <th>2</th>\n",
       "      <td>I dived many times for the ball. Managed to save 50%  The rest go out of bounds</td>\n",
       "      <td>Negative</td>\n",
       "    </tr>\n",
       "    <tr>\n",
       "      <th>3</th>\n",
       "      <td>my whole body feels itchy and like its on fire</td>\n",
       "      <td>Negative</td>\n",
       "    </tr>\n",
       "    <tr>\n",
       "      <th>4</th>\n",
       "      <td>no, it's not behaving at all. i'm mad. why am i here? because I can't see you all over there.</td>\n",
       "      <td>Negative</td>\n",
       "    </tr>\n",
       "  </tbody>\n",
       "</table>\n",
       "</div>"
      ],
      "text/plain": [
       "                                                                                                              text  \\\n",
       "0                                   - Awww, that's a bummer.  You shoulda got David Carr of Third Day to do it. ;D   \n",
       "1  is upset that he can't update his Facebook by texting it... and might cry as a result  School today also. Blah!   \n",
       "2                                  I dived many times for the ball. Managed to save 50%  The rest go out of bounds   \n",
       "3                                                                  my whole body feels itchy and like its on fire    \n",
       "4                   no, it's not behaving at all. i'm mad. why am i here? because I can't see you all over there.    \n",
       "\n",
       "  new_target  \n",
       "0   Negative  \n",
       "1   Negative  \n",
       "2   Negative  \n",
       "3   Negative  \n",
       "4   Negative  "
      ]
     },
     "execution_count": 123,
     "metadata": {},
     "output_type": "execute_result"
    }
   ],
   "source": [
    "df['text'] = df['text'].apply(remove_accented)\n",
    "df.head()"
   ]
  },
  {
   "cell_type": "markdown",
   "metadata": {},
   "source": [
    "### Expand Contractions"
   ]
  },
  {
   "cell_type": "code",
   "execution_count": 228,
   "metadata": {},
   "outputs": [
    {
     "data": {
      "text/html": [
       "<div>\n",
       "<style scoped>\n",
       "    .dataframe tbody tr th:only-of-type {\n",
       "        vertical-align: middle;\n",
       "    }\n",
       "\n",
       "    .dataframe tbody tr th {\n",
       "        vertical-align: top;\n",
       "    }\n",
       "\n",
       "    .dataframe thead th {\n",
       "        text-align: right;\n",
       "    }\n",
       "</style>\n",
       "<table border=\"1\" class=\"dataframe\">\n",
       "  <thead>\n",
       "    <tr style=\"text-align: right;\">\n",
       "      <th></th>\n",
       "      <th>a-town</th>\n",
       "      <th>a.o.e.</th>\n",
       "      <th>a/n</th>\n",
       "      <th>a3</th>\n",
       "      <th>a7x</th>\n",
       "      <th>aa</th>\n",
       "      <th>aaa</th>\n",
       "      <th>aaftddup</th>\n",
       "      <th>aanfctw</th>\n",
       "      <th>aapl</th>\n",
       "      <th>...</th>\n",
       "      <th>zex</th>\n",
       "      <th>zh</th>\n",
       "      <th>zig</th>\n",
       "      <th>zomfg</th>\n",
       "      <th>zomg</th>\n",
       "      <th>zomgzorrz</th>\n",
       "      <th>zoot</th>\n",
       "      <th>zot</th>\n",
       "      <th>zt</th>\n",
       "      <th>zup</th>\n",
       "    </tr>\n",
       "  </thead>\n",
       "  <tbody>\n",
       "    <tr>\n",
       "      <th>a</th>\n",
       "      <td>atlanta,ga</td>\n",
       "      <td>area of effect</td>\n",
       "      <td>authors note</td>\n",
       "      <td>anytime, anywhere, anyplace</td>\n",
       "      <td>avenged sevenfold</td>\n",
       "      <td>allahu akbar</td>\n",
       "      <td>anywhere, any place, any time</td>\n",
       "      <td>as a friend till death do us part</td>\n",
       "      <td>a**h**es are not f**king checking these words</td>\n",
       "      <td>apple computer inc.</td>\n",
       "      <td>...</td>\n",
       "      <td>NaN</td>\n",
       "      <td>NaN</td>\n",
       "      <td>NaN</td>\n",
       "      <td>NaN</td>\n",
       "      <td>NaN</td>\n",
       "      <td>NaN</td>\n",
       "      <td>NaN</td>\n",
       "      <td>NaN</td>\n",
       "      <td>NaN</td>\n",
       "      <td>NaN</td>\n",
       "    </tr>\n",
       "    <tr>\n",
       "      <th>b</th>\n",
       "      <td>NaN</td>\n",
       "      <td>NaN</td>\n",
       "      <td>NaN</td>\n",
       "      <td>NaN</td>\n",
       "      <td>NaN</td>\n",
       "      <td>NaN</td>\n",
       "      <td>NaN</td>\n",
       "      <td>NaN</td>\n",
       "      <td>NaN</td>\n",
       "      <td>NaN</td>\n",
       "      <td>...</td>\n",
       "      <td>NaN</td>\n",
       "      <td>NaN</td>\n",
       "      <td>NaN</td>\n",
       "      <td>NaN</td>\n",
       "      <td>NaN</td>\n",
       "      <td>NaN</td>\n",
       "      <td>NaN</td>\n",
       "      <td>NaN</td>\n",
       "      <td>NaN</td>\n",
       "      <td>NaN</td>\n",
       "    </tr>\n",
       "    <tr>\n",
       "      <th>c</th>\n",
       "      <td>NaN</td>\n",
       "      <td>NaN</td>\n",
       "      <td>NaN</td>\n",
       "      <td>NaN</td>\n",
       "      <td>NaN</td>\n",
       "      <td>NaN</td>\n",
       "      <td>NaN</td>\n",
       "      <td>NaN</td>\n",
       "      <td>NaN</td>\n",
       "      <td>NaN</td>\n",
       "      <td>...</td>\n",
       "      <td>NaN</td>\n",
       "      <td>NaN</td>\n",
       "      <td>NaN</td>\n",
       "      <td>NaN</td>\n",
       "      <td>NaN</td>\n",
       "      <td>NaN</td>\n",
       "      <td>NaN</td>\n",
       "      <td>NaN</td>\n",
       "      <td>NaN</td>\n",
       "      <td>NaN</td>\n",
       "    </tr>\n",
       "    <tr>\n",
       "      <th>d</th>\n",
       "      <td>NaN</td>\n",
       "      <td>NaN</td>\n",
       "      <td>NaN</td>\n",
       "      <td>NaN</td>\n",
       "      <td>NaN</td>\n",
       "      <td>NaN</td>\n",
       "      <td>NaN</td>\n",
       "      <td>NaN</td>\n",
       "      <td>NaN</td>\n",
       "      <td>NaN</td>\n",
       "      <td>...</td>\n",
       "      <td>NaN</td>\n",
       "      <td>NaN</td>\n",
       "      <td>NaN</td>\n",
       "      <td>NaN</td>\n",
       "      <td>NaN</td>\n",
       "      <td>NaN</td>\n",
       "      <td>NaN</td>\n",
       "      <td>NaN</td>\n",
       "      <td>NaN</td>\n",
       "      <td>NaN</td>\n",
       "    </tr>\n",
       "    <tr>\n",
       "      <th>e</th>\n",
       "      <td>NaN</td>\n",
       "      <td>NaN</td>\n",
       "      <td>NaN</td>\n",
       "      <td>NaN</td>\n",
       "      <td>NaN</td>\n",
       "      <td>NaN</td>\n",
       "      <td>NaN</td>\n",
       "      <td>NaN</td>\n",
       "      <td>NaN</td>\n",
       "      <td>NaN</td>\n",
       "      <td>...</td>\n",
       "      <td>NaN</td>\n",
       "      <td>NaN</td>\n",
       "      <td>NaN</td>\n",
       "      <td>NaN</td>\n",
       "      <td>NaN</td>\n",
       "      <td>NaN</td>\n",
       "      <td>NaN</td>\n",
       "      <td>NaN</td>\n",
       "      <td>NaN</td>\n",
       "      <td>NaN</td>\n",
       "    </tr>\n",
       "  </tbody>\n",
       "</table>\n",
       "<p>5 rows × 5374 columns</p>\n",
       "</div>"
      ],
      "text/plain": [
       "       a-town          a.o.e.           a/n                           a3  \\\n",
       "a  atlanta,ga  area of effect  authors note  anytime, anywhere, anyplace   \n",
       "b         NaN             NaN           NaN                          NaN   \n",
       "c         NaN             NaN           NaN                          NaN   \n",
       "d         NaN             NaN           NaN                          NaN   \n",
       "e         NaN             NaN           NaN                          NaN   \n",
       "\n",
       "                 a7x            aa                            aaa  \\\n",
       "a  avenged sevenfold  allahu akbar  anywhere, any place, any time   \n",
       "b                NaN           NaN                            NaN   \n",
       "c                NaN           NaN                            NaN   \n",
       "d                NaN           NaN                            NaN   \n",
       "e                NaN           NaN                            NaN   \n",
       "\n",
       "                            aaftddup  \\\n",
       "a  as a friend till death do us part   \n",
       "b                                NaN   \n",
       "c                                NaN   \n",
       "d                                NaN   \n",
       "e                                NaN   \n",
       "\n",
       "                                         aanfctw                 aapl  ...  \\\n",
       "a  a**h**es are not f**king checking these words  apple computer inc.  ...   \n",
       "b                                            NaN                  NaN  ...   \n",
       "c                                            NaN                  NaN  ...   \n",
       "d                                            NaN                  NaN  ...   \n",
       "e                                            NaN                  NaN  ...   \n",
       "\n",
       "   zex   zh  zig zomfg zomg zomgzorrz zoot  zot   zt  zup  \n",
       "a  NaN  NaN  NaN   NaN  NaN       NaN  NaN  NaN  NaN  NaN  \n",
       "b  NaN  NaN  NaN   NaN  NaN       NaN  NaN  NaN  NaN  NaN  \n",
       "c  NaN  NaN  NaN   NaN  NaN       NaN  NaN  NaN  NaN  NaN  \n",
       "d  NaN  NaN  NaN   NaN  NaN       NaN  NaN  NaN  NaN  NaN  \n",
       "e  NaN  NaN  NaN   NaN  NaN       NaN  NaN  NaN  NaN  NaN  \n",
       "\n",
       "[5 rows x 5374 columns]"
      ]
     },
     "execution_count": 228,
     "metadata": {},
     "output_type": "execute_result"
    }
   ],
   "source": [
    "slang = pd.read_csv('slang.csv', index_col = 'Unnamed: 0')\n",
    "slang.head()"
   ]
  },
  {
   "cell_type": "markdown",
   "metadata": {},
   "source": [
    "### Replacing \"I`d\", with \"I'd\""
   ]
  },
  {
   "cell_type": "code",
   "execution_count": 139,
   "metadata": {},
   "outputs": [
    {
     "data": {
      "text/html": [
       "<div>\n",
       "<style scoped>\n",
       "    .dataframe tbody tr th:only-of-type {\n",
       "        vertical-align: middle;\n",
       "    }\n",
       "\n",
       "    .dataframe tbody tr th {\n",
       "        vertical-align: top;\n",
       "    }\n",
       "\n",
       "    .dataframe thead th {\n",
       "        text-align: right;\n",
       "    }\n",
       "</style>\n",
       "<table border=\"1\" class=\"dataframe\">\n",
       "  <thead>\n",
       "    <tr style=\"text-align: right;\">\n",
       "      <th></th>\n",
       "      <th>text</th>\n",
       "      <th>new_target</th>\n",
       "    </tr>\n",
       "  </thead>\n",
       "  <tbody>\n",
       "    <tr>\n",
       "      <th>0</th>\n",
       "      <td>- Awww, that's a bummer. You shoulda got David Carr of Third Day to do it.</td>\n",
       "      <td>Negative</td>\n",
       "    </tr>\n",
       "    <tr>\n",
       "      <th>1</th>\n",
       "      <td>is upset that he can't update his Facebook by texting it... and might cry as a result School today also. Blah!</td>\n",
       "      <td>Negative</td>\n",
       "    </tr>\n",
       "    <tr>\n",
       "      <th>2</th>\n",
       "      <td>I dived many times for the ball. Managed to save 50% The rest go out of bounds</td>\n",
       "      <td>Negative</td>\n",
       "    </tr>\n",
       "    <tr>\n",
       "      <th>3</th>\n",
       "      <td>my whole body feels itchy and like its on fire</td>\n",
       "      <td>Negative</td>\n",
       "    </tr>\n",
       "    <tr>\n",
       "      <th>4</th>\n",
       "      <td>no, it's not behaving at all. i'm mad. why am i here? because I can't see you all over there.</td>\n",
       "      <td>Negative</td>\n",
       "    </tr>\n",
       "  </tbody>\n",
       "</table>\n",
       "</div>"
      ],
      "text/plain": [
       "                                                                                                             text  \\\n",
       "0                                      - Awww, that's a bummer. You shoulda got David Carr of Third Day to do it.   \n",
       "1  is upset that he can't update his Facebook by texting it... and might cry as a result School today also. Blah!   \n",
       "2                                  I dived many times for the ball. Managed to save 50% The rest go out of bounds   \n",
       "3                                                                  my whole body feels itchy and like its on fire   \n",
       "4                   no, it's not behaving at all. i'm mad. why am i here? because I can't see you all over there.   \n",
       "\n",
       "  new_target  \n",
       "0   Negative  \n",
       "1   Negative  \n",
       "2   Negative  \n",
       "3   Negative  \n",
       "4   Negative  "
      ]
     },
     "execution_count": 139,
     "metadata": {},
     "output_type": "execute_result"
    }
   ],
   "source": [
    "\n",
    "df['text'] = df['text'].str.replace(\"`\", \"'\")\n",
    "df.head()"
   ]
  },
  {
   "cell_type": "markdown",
   "metadata": {},
   "source": [
    "### Removing Numbers"
   ]
  },
  {
   "cell_type": "code",
   "execution_count": 159,
   "metadata": {},
   "outputs": [],
   "source": [
    "def remove_num(text):\n",
    "    text = re.sub(r'\\d*', '', text)\n",
    "    return text"
   ]
  },
  {
   "cell_type": "code",
   "execution_count": 160,
   "metadata": {},
   "outputs": [
    {
     "data": {
      "text/plain": [
       "'I dived many times for the ball. Managed to save % The rest go out of bounds'"
      ]
     },
     "execution_count": 160,
     "metadata": {},
     "output_type": "execute_result"
    }
   ],
   "source": [
    "sample = 'I dived many times for the ball. Managed to save 50% The rest go out of bounds'\n",
    "remove_num(sample)"
   ]
  },
  {
   "cell_type": "code",
   "execution_count": 161,
   "metadata": {},
   "outputs": [
    {
     "data": {
      "text/html": [
       "<div>\n",
       "<style scoped>\n",
       "    .dataframe tbody tr th:only-of-type {\n",
       "        vertical-align: middle;\n",
       "    }\n",
       "\n",
       "    .dataframe tbody tr th {\n",
       "        vertical-align: top;\n",
       "    }\n",
       "\n",
       "    .dataframe thead th {\n",
       "        text-align: right;\n",
       "    }\n",
       "</style>\n",
       "<table border=\"1\" class=\"dataframe\">\n",
       "  <thead>\n",
       "    <tr style=\"text-align: right;\">\n",
       "      <th></th>\n",
       "      <th>text</th>\n",
       "      <th>new_target</th>\n",
       "    </tr>\n",
       "  </thead>\n",
       "  <tbody>\n",
       "    <tr>\n",
       "      <th>0</th>\n",
       "      <td>- Awww, that's a bummer. You shoulda got David Carr of Third Day to do it.</td>\n",
       "      <td>Negative</td>\n",
       "    </tr>\n",
       "    <tr>\n",
       "      <th>1</th>\n",
       "      <td>is upset that he can't update his Facebook by texting it... and might cry as a result School today also. Blah!</td>\n",
       "      <td>Negative</td>\n",
       "    </tr>\n",
       "    <tr>\n",
       "      <th>2</th>\n",
       "      <td>I dived many times for the ball. Managed to save % The rest go out of bounds</td>\n",
       "      <td>Negative</td>\n",
       "    </tr>\n",
       "    <tr>\n",
       "      <th>3</th>\n",
       "      <td>my whole body feels itchy and like its on fire</td>\n",
       "      <td>Negative</td>\n",
       "    </tr>\n",
       "    <tr>\n",
       "      <th>4</th>\n",
       "      <td>no, it's not behaving at all. i'm mad. why am i here? because I can't see you all over there.</td>\n",
       "      <td>Negative</td>\n",
       "    </tr>\n",
       "  </tbody>\n",
       "</table>\n",
       "</div>"
      ],
      "text/plain": [
       "                                                                                                             text  \\\n",
       "0                                      - Awww, that's a bummer. You shoulda got David Carr of Third Day to do it.   \n",
       "1  is upset that he can't update his Facebook by texting it... and might cry as a result School today also. Blah!   \n",
       "2                                    I dived many times for the ball. Managed to save % The rest go out of bounds   \n",
       "3                                                                  my whole body feels itchy and like its on fire   \n",
       "4                   no, it's not behaving at all. i'm mad. why am i here? because I can't see you all over there.   \n",
       "\n",
       "  new_target  \n",
       "0   Negative  \n",
       "1   Negative  \n",
       "2   Negative  \n",
       "3   Negative  \n",
       "4   Negative  "
      ]
     },
     "execution_count": 161,
     "metadata": {},
     "output_type": "execute_result"
    }
   ],
   "source": [
    "df['text'] = df['text'].apply(remove_num)\n",
    "df.head()"
   ]
  },
  {
   "cell_type": "markdown",
   "metadata": {},
   "source": [
    "\n",
    "### Replace Slang Words"
   ]
  },
  {
   "cell_type": "code",
   "execution_count": 231,
   "metadata": {},
   "outputs": [],
   "source": [
    "slang_columns = list(slang.columns)"
   ]
  },
  {
   "cell_type": "code",
   "execution_count": 232,
   "metadata": {},
   "outputs": [],
   "source": [
    "def replace_slang(text):\n",
    "    text = text.lower()\n",
    "    mylis = text.split()\n",
    "    new = []\n",
    "    for i in mylis:\n",
    "        if isinstance(i, str):\n",
    "            if i in slang_columns:\n",
    "                new.append(slang[i].loc[i[0]])\n",
    "            else:\n",
    "                new.append(i)\n",
    "        else:\n",
    "            continue\n",
    "    text = ' '.join(new)\n",
    "    return text"
   ]
  },
  {
   "cell_type": "code",
   "execution_count": 233,
   "metadata": {},
   "outputs": [
    {
     "data": {
      "text/plain": [
       "'that is'"
      ]
     },
     "execution_count": 233,
     "metadata": {},
     "output_type": "execute_result"
    }
   ],
   "source": [
    "slang[\"that's\"].loc['t']"
   ]
  },
  {
   "cell_type": "code",
   "execution_count": 234,
   "metadata": {},
   "outputs": [
    {
     "data": {
      "text/plain": [
       "'aww i cannot be bothered with homework soooo fed up &gt;:| i love you too xxxx'"
      ]
     },
     "execution_count": 234,
     "metadata": {},
     "output_type": "execute_result"
    }
   ],
   "source": [
    "sample = \"aww I can't be bothered with homework soooo fed up &gt;:| ilyt xxxx\"\n",
    "replace_slang(sample)"
   ]
  },
  {
   "cell_type": "code",
   "execution_count": 220,
   "metadata": {},
   "outputs": [],
   "source": [
    "# for j, i in enumerate(df['text'].iloc[277882:]):\n",
    "      \n",
    "#     try:\n",
    "#         replace_slang(i)\n",
    "        \n",
    "#     except TypeError as err:\n",
    "#         print(j)\n",
    "    \n",
    "    "
   ]
  },
  {
   "cell_type": "code",
   "execution_count": 235,
   "metadata": {},
   "outputs": [
    {
     "name": "stdout",
     "output_type": "stream",
     "text": [
      "44 s ± 5.31 s per loop (mean ± std. dev. of 7 runs, 1 loop each)\n"
     ]
    }
   ],
   "source": [
    "%%timeit\n",
    "df['new_text'] = df['text'].iloc[:10000].apply(replace_slang)\n",
    "df.head(15)"
   ]
  },
  {
   "cell_type": "code",
   "execution_count": 236,
   "metadata": {},
   "outputs": [],
   "source": [
    "# 308 sec for 10000 rows for 16_00_000 it will take approx 13.68 hours\n",
    "# have to search for some other options :-)\n"
   ]
  },
  {
   "cell_type": "code",
   "execution_count": 237,
   "metadata": {},
   "outputs": [
    {
     "data": {
      "text/html": [
       "<div>\n",
       "<style scoped>\n",
       "    .dataframe tbody tr th:only-of-type {\n",
       "        vertical-align: middle;\n",
       "    }\n",
       "\n",
       "    .dataframe tbody tr th {\n",
       "        vertical-align: top;\n",
       "    }\n",
       "\n",
       "    .dataframe thead th {\n",
       "        text-align: right;\n",
       "    }\n",
       "</style>\n",
       "<table border=\"1\" class=\"dataframe\">\n",
       "  <thead>\n",
       "    <tr style=\"text-align: right;\">\n",
       "      <th></th>\n",
       "      <th>text</th>\n",
       "      <th>new_target</th>\n",
       "      <th>new_text</th>\n",
       "    </tr>\n",
       "  </thead>\n",
       "  <tbody>\n",
       "    <tr>\n",
       "      <th>0</th>\n",
       "      <td>- Awww, that's a bummer. You shoulda got David Carr of Third Day to do it.</td>\n",
       "      <td>Negative</td>\n",
       "      <td>- awww, that is a bummer. you shoulda got david carr of third day to do it.</td>\n",
       "    </tr>\n",
       "    <tr>\n",
       "      <th>1</th>\n",
       "      <td>is upset that he can't update his Facebook by texting it... and might cry as a result School today also. Blah!</td>\n",
       "      <td>Negative</td>\n",
       "      <td>is upset that he cannot update his facebook by texting it... and might cry as a result school today also. blah!</td>\n",
       "    </tr>\n",
       "    <tr>\n",
       "      <th>2</th>\n",
       "      <td>I dived many times for the ball. Managed to save % The rest go out of bounds</td>\n",
       "      <td>Negative</td>\n",
       "      <td>i dived many times for the ball. managed to save % the rest go out of bounds</td>\n",
       "    </tr>\n",
       "    <tr>\n",
       "      <th>3</th>\n",
       "      <td>my whole body feels itchy and like its on fire</td>\n",
       "      <td>Negative</td>\n",
       "      <td>my whole body feels itchy and like its on fire</td>\n",
       "    </tr>\n",
       "    <tr>\n",
       "      <th>4</th>\n",
       "      <td>no, it's not behaving at all. i'm mad. why am i here? because I can't see you all over there.</td>\n",
       "      <td>Negative</td>\n",
       "      <td>no, it is not behaving at all. i am mad. why am i here? because i cannot see you all over there.</td>\n",
       "    </tr>\n",
       "  </tbody>\n",
       "</table>\n",
       "</div>"
      ],
      "text/plain": [
       "                                                                                                             text  \\\n",
       "0                                      - Awww, that's a bummer. You shoulda got David Carr of Third Day to do it.   \n",
       "1  is upset that he can't update his Facebook by texting it... and might cry as a result School today also. Blah!   \n",
       "2                                    I dived many times for the ball. Managed to save % The rest go out of bounds   \n",
       "3                                                                  my whole body feels itchy and like its on fire   \n",
       "4                   no, it's not behaving at all. i'm mad. why am i here? because I can't see you all over there.   \n",
       "\n",
       "  new_target  \\\n",
       "0   Negative   \n",
       "1   Negative   \n",
       "2   Negative   \n",
       "3   Negative   \n",
       "4   Negative   \n",
       "\n",
       "                                                                                                          new_text  \n",
       "0                                      - awww, that is a bummer. you shoulda got david carr of third day to do it.  \n",
       "1  is upset that he cannot update his facebook by texting it... and might cry as a result school today also. blah!  \n",
       "2                                     i dived many times for the ball. managed to save % the rest go out of bounds  \n",
       "3                                                                   my whole body feels itchy and like its on fire  \n",
       "4                 no, it is not behaving at all. i am mad. why am i here? because i cannot see you all over there.  "
      ]
     },
     "execution_count": 237,
     "metadata": {},
     "output_type": "execute_result"
    }
   ],
   "source": [
    "df.head()"
   ]
  },
  {
   "cell_type": "code",
   "execution_count": 238,
   "metadata": {},
   "outputs": [],
   "source": [
    "df.drop('new_text', axis = 1, inplace = True)"
   ]
  },
  {
   "cell_type": "markdown",
   "metadata": {},
   "source": [
    "### Clean Text Remove Punctuation ,Extra spaces and lowercase"
   ]
  },
  {
   "cell_type": "code",
   "execution_count": 240,
   "metadata": {},
   "outputs": [],
   "source": [
    "import string\n",
    "\n",
    "def clean(text):\n",
    "    \n",
    "    mylist = [' ' if alpha in list(string.punctuation) else alpha for alpha in text ]\n",
    "    text = ''.join(mylist)\n",
    "    text = text.replace('  ', ' ')\n",
    "    text = text.replace('  ', ' ')\n",
    "    text = text.lower().strip()\n",
    "    return text"
   ]
  },
  {
   "cell_type": "code",
   "execution_count": 241,
   "metadata": {},
   "outputs": [
    {
     "data": {
      "text/html": [
       "<div>\n",
       "<style scoped>\n",
       "    .dataframe tbody tr th:only-of-type {\n",
       "        vertical-align: middle;\n",
       "    }\n",
       "\n",
       "    .dataframe tbody tr th {\n",
       "        vertical-align: top;\n",
       "    }\n",
       "\n",
       "    .dataframe thead th {\n",
       "        text-align: right;\n",
       "    }\n",
       "</style>\n",
       "<table border=\"1\" class=\"dataframe\">\n",
       "  <thead>\n",
       "    <tr style=\"text-align: right;\">\n",
       "      <th></th>\n",
       "      <th>text</th>\n",
       "      <th>new_target</th>\n",
       "    </tr>\n",
       "  </thead>\n",
       "  <tbody>\n",
       "    <tr>\n",
       "      <th>0</th>\n",
       "      <td>awww that s a bummer you shoulda got david carr of third day to do it</td>\n",
       "      <td>Negative</td>\n",
       "    </tr>\n",
       "    <tr>\n",
       "      <th>1</th>\n",
       "      <td>is upset that he can t update his facebook by texting it and might cry as a result school today also blah</td>\n",
       "      <td>Negative</td>\n",
       "    </tr>\n",
       "    <tr>\n",
       "      <th>2</th>\n",
       "      <td>i dived many times for the ball managed to save the rest go out of bounds</td>\n",
       "      <td>Negative</td>\n",
       "    </tr>\n",
       "    <tr>\n",
       "      <th>3</th>\n",
       "      <td>my whole body feels itchy and like its on fire</td>\n",
       "      <td>Negative</td>\n",
       "    </tr>\n",
       "    <tr>\n",
       "      <th>4</th>\n",
       "      <td>no it s not behaving at all i m mad why am i here because i can t see you all over there</td>\n",
       "      <td>Negative</td>\n",
       "    </tr>\n",
       "  </tbody>\n",
       "</table>\n",
       "</div>"
      ],
      "text/plain": [
       "                                                                                                        text  \\\n",
       "0                                      awww that s a bummer you shoulda got david carr of third day to do it   \n",
       "1  is upset that he can t update his facebook by texting it and might cry as a result school today also blah   \n",
       "2                                  i dived many times for the ball managed to save the rest go out of bounds   \n",
       "3                                                             my whole body feels itchy and like its on fire   \n",
       "4                   no it s not behaving at all i m mad why am i here because i can t see you all over there   \n",
       "\n",
       "  new_target  \n",
       "0   Negative  \n",
       "1   Negative  \n",
       "2   Negative  \n",
       "3   Negative  \n",
       "4   Negative  "
      ]
     },
     "execution_count": 241,
     "metadata": {},
     "output_type": "execute_result"
    }
   ],
   "source": [
    "df['text'] = df['text'].apply(clean)\n",
    "df.head()"
   ]
  },
  {
   "cell_type": "code",
   "execution_count": 4,
   "metadata": {},
   "outputs": [
    {
     "name": "stdout",
     "output_type": "stream",
     "text": [
      "agreed i saw the failwhale allllll day today\n",
      "i m sooo sad they killed off kutner on house whyyyyyyyy\n",
      "haha its so cooooold in the d and no but you should still go to the show they do some incredible stuff\n",
      "danny im upset that i wasnt here to watch the live chat i was in a car for hours on a trip im soooo upset\n",
      "my home town my mammy called all depressd pls explain y a parent let their yr old child walk alone hello its\n",
      "poor socks luvvvvv the golden retriever i want one sighhhh\n",
      "oh did i mention it quot gooooood moooorniiiiiiing quot from germany im back in my cage or better my office\n",
      "stupid movies we watched mirrors ugggggh stooopeeed rip off\n"
     ]
    }
   ],
   "source": [
    "mylis = ['agreed i saw the failwhale allllll day today', 'i m sooo sad they killed off kutner on house whyyyyyyyy', 'haha its so cooooold in the d and no but you should still go to the show they do some incredible stuff', 'danny im upset that i wasnt here to watch the live chat i was in a car for hours on a trip im soooo upset','my home town my mammy called all depressd pls explain y a parent let their yr old child walk alone hello its','poor socks luvvvvv the golden retriever i want one sighhhh','oh did i mention it quot gooooood moooorniiiiiiing quot from germany im back in my cage or better my office','stupid movies we watched mirrors ugggggh stooopeeed rip off',]\n",
    "for i in mylis:\n",
    "    print(i)"
   ]
  },
  {
   "cell_type": "code",
   "execution_count": 283,
   "metadata": {},
   "outputs": [],
   "source": [
    "def remove_repeated_characters(text):\n",
    "    pattern = re.compile(r\"(\\w{2,})(\\w{2,})\\2(\\w*)\")\n",
    "    substitution_pattern = r\"\\1\\2\\3\"\n",
    "    text = re.sub(pattern, substitution_pattern, text)\n",
    "    return text"
   ]
  },
  {
   "cell_type": "code",
   "execution_count": 284,
   "metadata": {},
   "outputs": [
    {
     "data": {
      "text/plain": [
       "'agreed i saw the failwhale allll day today'"
      ]
     },
     "execution_count": 284,
     "metadata": {},
     "output_type": "execute_result"
    }
   ],
   "source": [
    "# Sample\n",
    "remove_repeated_characters(\"agreed i saw the failwhale allllll day today\")"
   ]
  },
  {
   "cell_type": "code",
   "execution_count": null,
   "metadata": {},
   "outputs": [],
   "source": [
    "\"(.)\\1{2,}\""
   ]
  },
  {
   "cell_type": "code",
   "execution_count": 300,
   "metadata": {},
   "outputs": [],
   "source": [
    "def remove_repeated_characters(text):\n",
    "    pattern = re.compile(r\"(.)\\1{2,}\")\n",
    "    substitution_pattern = r\"\\1\"                       # r\"\\1\\1\" keeps good and moorniing\n",
    "    text = re.sub(pattern, substitution_pattern, text)\n",
    "    return text"
   ]
  },
  {
   "cell_type": "code",
   "execution_count": 301,
   "metadata": {},
   "outputs": [
    {
     "name": "stdout",
     "output_type": "stream",
     "text": [
      "agreed i saw the failwhale allllll day today\n",
      "agreed i saw the failwhale al day today\n",
      "\n",
      "i m sooo sad they killed off kutner on house whyyyyyyyy\n",
      "i m so sad they killed off kutner on house why\n",
      "\n",
      "haha its so cooooold in the d and no but you should still go to the show they do some incredible stuff\n",
      "haha its so cold in the d and no but you should still go to the show they do some incredible stuff\n",
      "\n",
      "danny im upset that i wasnt here to watch the live chat i was in a car for hours on a trip im soooo upset\n",
      "danny im upset that i wasnt here to watch the live chat i was in a car for hours on a trip im so upset\n",
      "\n",
      "my home town my mammy called all depressd pls explain y a parent let their yr old child walk alone hello its\n",
      "my home town my mammy called all depressd pls explain y a parent let their yr old child walk alone hello its\n",
      "\n",
      "poor socks luvvvvv the golden retriever i want one sighhhh\n",
      "poor socks luv the golden retriever i want one sigh\n",
      "\n",
      "oh did i mention it quot gooooood moooorniiiiiiing quot from germany im back in my cage or better my office\n",
      "oh did i mention it quot god morning quot from germany im back in my cage or better my office\n",
      "\n",
      "stupid movies we watched mirrors ugggggh stooopeeed rip off\n",
      "stupid movies we watched mirrors ugh stoped rip off\n",
      "\n"
     ]
    }
   ],
   "source": [
    "for i in mylis:\n",
    "    print(i)\n",
    "    print(remove_repeated_characters(i))\n",
    "    print()"
   ]
  },
  {
   "cell_type": "code",
   "execution_count": 302,
   "metadata": {},
   "outputs": [
    {
     "data": {
      "text/html": [
       "<div>\n",
       "<style scoped>\n",
       "    .dataframe tbody tr th:only-of-type {\n",
       "        vertical-align: middle;\n",
       "    }\n",
       "\n",
       "    .dataframe tbody tr th {\n",
       "        vertical-align: top;\n",
       "    }\n",
       "\n",
       "    .dataframe thead th {\n",
       "        text-align: right;\n",
       "    }\n",
       "</style>\n",
       "<table border=\"1\" class=\"dataframe\">\n",
       "  <thead>\n",
       "    <tr style=\"text-align: right;\">\n",
       "      <th></th>\n",
       "      <th>text</th>\n",
       "      <th>new_target</th>\n",
       "    </tr>\n",
       "  </thead>\n",
       "  <tbody>\n",
       "    <tr>\n",
       "      <th>0</th>\n",
       "      <td>aw that s a bummer you shoulda got david carr of third day to do it</td>\n",
       "      <td>Negative</td>\n",
       "    </tr>\n",
       "    <tr>\n",
       "      <th>1</th>\n",
       "      <td>is upset that he can t update his facebook by texting it and might cry as a result school today also blah</td>\n",
       "      <td>Negative</td>\n",
       "    </tr>\n",
       "    <tr>\n",
       "      <th>2</th>\n",
       "      <td>i dived many times for the ball managed to save the rest go out of bounds</td>\n",
       "      <td>Negative</td>\n",
       "    </tr>\n",
       "    <tr>\n",
       "      <th>3</th>\n",
       "      <td>my whole body feels itchy and like its on fire</td>\n",
       "      <td>Negative</td>\n",
       "    </tr>\n",
       "    <tr>\n",
       "      <th>4</th>\n",
       "      <td>no it s not behaving at all i m mad why am i here because i can t see you all over there</td>\n",
       "      <td>Negative</td>\n",
       "    </tr>\n",
       "  </tbody>\n",
       "</table>\n",
       "</div>"
      ],
      "text/plain": [
       "                                                                                                        text  \\\n",
       "0                                        aw that s a bummer you shoulda got david carr of third day to do it   \n",
       "1  is upset that he can t update his facebook by texting it and might cry as a result school today also blah   \n",
       "2                                  i dived many times for the ball managed to save the rest go out of bounds   \n",
       "3                                                             my whole body feels itchy and like its on fire   \n",
       "4                   no it s not behaving at all i m mad why am i here because i can t see you all over there   \n",
       "\n",
       "  new_target  \n",
       "0   Negative  \n",
       "1   Negative  \n",
       "2   Negative  \n",
       "3   Negative  \n",
       "4   Negative  "
      ]
     },
     "execution_count": 302,
     "metadata": {},
     "output_type": "execute_result"
    }
   ],
   "source": [
    "df['text'] = df['text'].apply(remove_repeated_characters)\n",
    "df.head()"
   ]
  },
  {
   "cell_type": "markdown",
   "metadata": {},
   "source": [
    "### Removing Stopwords"
   ]
  },
  {
   "cell_type": "code",
   "execution_count": 305,
   "metadata": {},
   "outputs": [],
   "source": [
    "from nltk.corpus import stopwords\n",
    "stop = stopwords.words('english')"
   ]
  },
  {
   "cell_type": "code",
   "execution_count": 309,
   "metadata": {},
   "outputs": [
    {
     "name": "stdout",
     "output_type": "stream",
     "text": [
      "['A', 'B', 'C', 'D', 'E', 'F', 'G', 'H', 'I', 'J', 'K', 'L', 'M', 'N', 'O', 'P', 'Q', 'R', 'S', 'T', 'U', 'V', 'W', 'X', 'Y', 'Z', 'a', 'about', 'above', 'after', 'again', 'against', 'ain', 'all', 'am', 'an', 'and', 'any', 'are', 'aren', \"aren't\", 'as', 'at', 'b', 'be', 'because', 'been', 'before', 'being', 'below', 'between', 'both', 'but', 'by', 'c', 'can', 'couldn', \"couldn't\", 'd', 'did', 'didn', \"didn't\", 'do', 'does', 'doesn', \"doesn't\", 'doing', 'don', \"don't\", 'down', 'during', 'e', 'each', 'f', 'few', 'for', 'from', 'further', 'g', 'h', 'had', 'hadn', \"hadn't\", 'has', 'hasn', \"hasn't\", 'have', 'haven', \"haven't\", 'having', 'he', 'her', 'here', 'hers', 'herself', 'him', 'himself', 'his', 'how', 'i', 'if', 'in', 'into', 'is', 'isn', \"isn't\", 'it', \"it's\", 'its', 'itself', 'j', 'just', 'k', 'l', 'll', 'm', 'ma', 'me', 'mightn', \"mightn't\", 'more', 'most', 'mustn', \"mustn't\", 'my', 'myself', 'n', 'needn', \"needn't\", 'no', 'nor', 'not', 'now', 'o', 'of', 'off', 'on', 'once', 'only', 'or', 'other', 'our', 'ours', 'ourselves', 'out', 'over', 'own', 'p', 'q', 'r', 're', 's', 'same', 'shan', \"shan't\", 'she', \"she's\", 'should', \"should've\", 'shouldn', \"shouldn't\", 'so', 'some', 'such', 't', 'than', 'that', \"that'll\", 'the', 'their', 'theirs', 'them', 'themselves', 'then', 'there', 'these', 'they', 'this', 'those', 'through', 'to', 'too', 'u', 'under', 'until', 'up', 'v', 've', 'very', 'w', 'was', 'wasn', \"wasn't\", 'we', 'were', 'weren', \"weren't\", 'what', 'when', 'where', 'which', 'while', 'who', 'whom', 'why', 'will', 'with', 'won', \"won't\", 'wouldn', \"wouldn't\", 'x', 'y', 'you', \"you'd\", \"you'll\", \"you're\", \"you've\", 'your', 'yours', 'yourself', 'yourselves', 'z']\n"
     ]
    }
   ],
   "source": [
    "mystop= list(set(stop + list(string.ascii_letters)))\n",
    "mystop.sort()\n",
    "print(mystop)\n"
   ]
  },
  {
   "cell_type": "code",
   "execution_count": 313,
   "metadata": {},
   "outputs": [],
   "source": [
    "def remove_stop_words(text):\n",
    "    text = [word  for word in text.split() if word not in mystop]\n",
    "    text = ' '.join(text)\n",
    "    return text"
   ]
  },
  {
   "cell_type": "code",
   "execution_count": 314,
   "metadata": {},
   "outputs": [
    {
     "data": {
      "text/plain": [
       "'aw bummer shoulda got david carr third day'"
      ]
     },
     "execution_count": 314,
     "metadata": {},
     "output_type": "execute_result"
    }
   ],
   "source": [
    "sample = \"aw that s a bummer you shoulda got david carr of third day to do it\"\n",
    "remove_stop_words(sample)"
   ]
  },
  {
   "cell_type": "code",
   "execution_count": 315,
   "metadata": {},
   "outputs": [
    {
     "data": {
      "text/html": [
       "<div>\n",
       "<style scoped>\n",
       "    .dataframe tbody tr th:only-of-type {\n",
       "        vertical-align: middle;\n",
       "    }\n",
       "\n",
       "    .dataframe tbody tr th {\n",
       "        vertical-align: top;\n",
       "    }\n",
       "\n",
       "    .dataframe thead th {\n",
       "        text-align: right;\n",
       "    }\n",
       "</style>\n",
       "<table border=\"1\" class=\"dataframe\">\n",
       "  <thead>\n",
       "    <tr style=\"text-align: right;\">\n",
       "      <th></th>\n",
       "      <th>text</th>\n",
       "      <th>new_target</th>\n",
       "    </tr>\n",
       "  </thead>\n",
       "  <tbody>\n",
       "    <tr>\n",
       "      <th>0</th>\n",
       "      <td>aw bummer shoulda got david carr third day</td>\n",
       "      <td>Negative</td>\n",
       "    </tr>\n",
       "    <tr>\n",
       "      <th>1</th>\n",
       "      <td>upset update facebook texting might cry result school today also blah</td>\n",
       "      <td>Negative</td>\n",
       "    </tr>\n",
       "    <tr>\n",
       "      <th>2</th>\n",
       "      <td>dived many times ball managed save rest go bounds</td>\n",
       "      <td>Negative</td>\n",
       "    </tr>\n",
       "    <tr>\n",
       "      <th>3</th>\n",
       "      <td>whole body feels itchy like fire</td>\n",
       "      <td>Negative</td>\n",
       "    </tr>\n",
       "    <tr>\n",
       "      <th>4</th>\n",
       "      <td>behaving mad see</td>\n",
       "      <td>Negative</td>\n",
       "    </tr>\n",
       "  </tbody>\n",
       "</table>\n",
       "</div>"
      ],
      "text/plain": [
       "                                                                    text  \\\n",
       "0                             aw bummer shoulda got david carr third day   \n",
       "1  upset update facebook texting might cry result school today also blah   \n",
       "2                      dived many times ball managed save rest go bounds   \n",
       "3                                       whole body feels itchy like fire   \n",
       "4                                                       behaving mad see   \n",
       "\n",
       "  new_target  \n",
       "0   Negative  \n",
       "1   Negative  \n",
       "2   Negative  \n",
       "3   Negative  \n",
       "4   Negative  "
      ]
     },
     "execution_count": 315,
     "metadata": {},
     "output_type": "execute_result"
    }
   ],
   "source": [
    "df['text'] = df['text'].apply(remove_stop_words)\n",
    "df.head()"
   ]
  },
  {
   "cell_type": "markdown",
   "metadata": {},
   "source": [
    "### Shuffling the DataFrame"
   ]
  },
  {
   "cell_type": "code",
   "execution_count": 325,
   "metadata": {},
   "outputs": [
    {
     "data": {
      "text/html": [
       "<div>\n",
       "<style scoped>\n",
       "    .dataframe tbody tr th:only-of-type {\n",
       "        vertical-align: middle;\n",
       "    }\n",
       "\n",
       "    .dataframe tbody tr th {\n",
       "        vertical-align: top;\n",
       "    }\n",
       "\n",
       "    .dataframe thead th {\n",
       "        text-align: right;\n",
       "    }\n",
       "</style>\n",
       "<table border=\"1\" class=\"dataframe\">\n",
       "  <thead>\n",
       "    <tr style=\"text-align: right;\">\n",
       "      <th></th>\n",
       "      <th>text</th>\n",
       "      <th>new_target</th>\n",
       "    </tr>\n",
       "  </thead>\n",
       "  <tbody>\n",
       "    <tr>\n",
       "      <th>799995</th>\n",
       "      <td>sick spending day laying bed listening</td>\n",
       "      <td>Negative</td>\n",
       "    </tr>\n",
       "    <tr>\n",
       "      <th>799996</th>\n",
       "      <td>gmail</td>\n",
       "      <td>Negative</td>\n",
       "    </tr>\n",
       "    <tr>\n",
       "      <th>799997</th>\n",
       "      <td>rest peace farrah sad</td>\n",
       "      <td>Negative</td>\n",
       "    </tr>\n",
       "    <tr>\n",
       "      <th>799998</th>\n",
       "      <td>sounds like rival flagging ads much though</td>\n",
       "      <td>Negative</td>\n",
       "    </tr>\n",
       "    <tr>\n",
       "      <th>799999</th>\n",
       "      <td>resit exams summer wishes worked harder first year uni</td>\n",
       "      <td>Negative</td>\n",
       "    </tr>\n",
       "    <tr>\n",
       "      <th>800000</th>\n",
       "      <td>love guys best</td>\n",
       "      <td>Positive</td>\n",
       "    </tr>\n",
       "    <tr>\n",
       "      <th>800001</th>\n",
       "      <td>im meeting one besties tonight cant wait girl talk</td>\n",
       "      <td>Positive</td>\n",
       "    </tr>\n",
       "    <tr>\n",
       "      <th>800002</th>\n",
       "      <td>thanks twitter add sunisa got meet hin show dc area sweetheart</td>\n",
       "      <td>Positive</td>\n",
       "    </tr>\n",
       "    <tr>\n",
       "      <th>800003</th>\n",
       "      <td>sick really cheap hurts much eat real food plus friends make soup</td>\n",
       "      <td>Positive</td>\n",
       "    </tr>\n",
       "    <tr>\n",
       "      <th>800004</th>\n",
       "      <td>effect everyone</td>\n",
       "      <td>Positive</td>\n",
       "    </tr>\n",
       "  </tbody>\n",
       "</table>\n",
       "</div>"
      ],
      "text/plain": [
       "                                                                     text  \\\n",
       "799995                             sick spending day laying bed listening   \n",
       "799996                                                              gmail   \n",
       "799997                                              rest peace farrah sad   \n",
       "799998                         sounds like rival flagging ads much though   \n",
       "799999             resit exams summer wishes worked harder first year uni   \n",
       "800000                                                     love guys best   \n",
       "800001                 im meeting one besties tonight cant wait girl talk   \n",
       "800002     thanks twitter add sunisa got meet hin show dc area sweetheart   \n",
       "800003  sick really cheap hurts much eat real food plus friends make soup   \n",
       "800004                                                    effect everyone   \n",
       "\n",
       "       new_target  \n",
       "799995   Negative  \n",
       "799996   Negative  \n",
       "799997   Negative  \n",
       "799998   Negative  \n",
       "799999   Negative  \n",
       "800000   Positive  \n",
       "800001   Positive  \n",
       "800002   Positive  \n",
       "800003   Positive  \n",
       "800004   Positive  "
      ]
     },
     "execution_count": 325,
     "metadata": {},
     "output_type": "execute_result"
    }
   ],
   "source": [
    "df.iloc[799995:800005]"
   ]
  },
  {
   "cell_type": "code",
   "execution_count": 326,
   "metadata": {},
   "outputs": [
    {
     "data": {
      "text/html": [
       "<div>\n",
       "<style scoped>\n",
       "    .dataframe tbody tr th:only-of-type {\n",
       "        vertical-align: middle;\n",
       "    }\n",
       "\n",
       "    .dataframe tbody tr th {\n",
       "        vertical-align: top;\n",
       "    }\n",
       "\n",
       "    .dataframe thead th {\n",
       "        text-align: right;\n",
       "    }\n",
       "</style>\n",
       "<table border=\"1\" class=\"dataframe\">\n",
       "  <thead>\n",
       "    <tr style=\"text-align: right;\">\n",
       "      <th></th>\n",
       "      <th>text</th>\n",
       "      <th>new_target</th>\n",
       "    </tr>\n",
       "  </thead>\n",
       "  <tbody>\n",
       "    <tr>\n",
       "      <th>129188</th>\n",
       "      <td>eyes bloodshot enough sleep staring screen much flatmates frying onions every damn day without turning fan</td>\n",
       "      <td>Negative</td>\n",
       "    </tr>\n",
       "    <tr>\n",
       "      <th>1106</th>\n",
       "      <td>tried get earlier today work</td>\n",
       "      <td>Negative</td>\n",
       "    </tr>\n",
       "    <tr>\n",
       "      <th>1408483</th>\n",
       "      <td>watching eagle eye</td>\n",
       "      <td>Positive</td>\n",
       "    </tr>\n",
       "    <tr>\n",
       "      <th>1235348</th>\n",
       "      <td>eminem made part lyric like</td>\n",
       "      <td>Positive</td>\n",
       "    </tr>\n",
       "    <tr>\n",
       "      <th>1226627</th>\n",
       "      <td>excellent news crysis pc xbox ps</td>\n",
       "      <td>Positive</td>\n",
       "    </tr>\n",
       "  </tbody>\n",
       "</table>\n",
       "</div>"
      ],
      "text/plain": [
       "                                                                                                               text  \\\n",
       "129188   eyes bloodshot enough sleep staring screen much flatmates frying onions every damn day without turning fan   \n",
       "1106                                                                                   tried get earlier today work   \n",
       "1408483                                                                                          watching eagle eye   \n",
       "1235348                                                                                 eminem made part lyric like   \n",
       "1226627                                                                            excellent news crysis pc xbox ps   \n",
       "\n",
       "        new_target  \n",
       "129188    Negative  \n",
       "1106      Negative  \n",
       "1408483   Positive  \n",
       "1235348   Positive  \n",
       "1226627   Positive  "
      ]
     },
     "execution_count": 326,
     "metadata": {},
     "output_type": "execute_result"
    }
   ],
   "source": [
    "df2 = df.copy()\n",
    "\n",
    "from sklearn.utils import shuffle\n",
    "\n",
    "df2 = shuffle(df2)\n",
    "df2.head()"
   ]
  },
  {
   "cell_type": "markdown",
   "metadata": {},
   "source": [
    "### Tokenizing Text"
   ]
  },
  {
   "cell_type": "code",
   "execution_count": 26,
   "metadata": {},
   "outputs": [],
   "source": [
    "import nltk\n",
    "from nltk.corpus import wordnet\n",
    "import re"
   ]
  },
  {
   "cell_type": "code",
   "execution_count": 328,
   "metadata": {},
   "outputs": [],
   "source": [
    "def tokenize_text(text):\n",
    "    sentences = nltk.sent_tokenize(text)\n",
    "    word_tokens = [nltk.word_tokenize(sentence) for sentence in sentences] \n",
    "    return word_tokens"
   ]
  },
  {
   "cell_type": "code",
   "execution_count": 329,
   "metadata": {},
   "outputs": [
    {
     "data": {
      "text/plain": [
       "[['eyes',\n",
       "  'bloodshot',\n",
       "  'enough',\n",
       "  'sleep',\n",
       "  'staring',\n",
       "  'screen',\n",
       "  'much',\n",
       "  'flatmates',\n",
       "  'frying',\n",
       "  'onions',\n",
       "  'every',\n",
       "  'damn',\n",
       "  'day',\n",
       "  'without',\n",
       "  'turning',\n",
       "  'fan']]"
      ]
     },
     "execution_count": 329,
     "metadata": {},
     "output_type": "execute_result"
    }
   ],
   "source": [
    "sample = \"eyes bloodshot enough sleep staring screen much flatmates frying onions every damn day without turning fan\"\n",
    "\n",
    "tokenize_text(sample)"
   ]
  },
  {
   "cell_type": "markdown",
   "metadata": {},
   "source": [
    "### Spelling Correction"
   ]
  },
  {
   "cell_type": "markdown",
   "metadata": {},
   "source": [
    "### Gingerit"
   ]
  },
  {
   "cell_type": "code",
   "execution_count": 331,
   "metadata": {},
   "outputs": [
    {
     "name": "stdout",
     "output_type": "stream",
     "text": [
      "['agreed i saw the failwhale allllll day today', 'i m sooo sad they killed off kutner on house whyyyyyyyy', 'haha its so cooooold in the d and no but you should still go to the show they do some incredible stuff', 'danny im upset that i wasnt here to watch the live chat i was in a car for hours on a trip im soooo upset', 'my home town my mammy called all depressd pls explain y a parent let their yr old child walk alone hello its', 'poor socks luvvvvv the golden retriever i want one sighhhh', 'oh did i mention it quot gooooood moooorniiiiiiing quot from germany im back in my cage or better my office', 'stupid movies we watched mirrors ugggggh stooopeeed rip off']\n"
     ]
    }
   ],
   "source": [
    "print(mylis)"
   ]
  },
  {
   "cell_type": "code",
   "execution_count": 330,
   "metadata": {},
   "outputs": [],
   "source": [
    "from gingerit.gingerit import GingerIt"
   ]
  },
  {
   "cell_type": "code",
   "execution_count": 332,
   "metadata": {},
   "outputs": [],
   "source": [
    "parser = GingerIt()"
   ]
  },
  {
   "cell_type": "code",
   "execution_count": 333,
   "metadata": {},
   "outputs": [],
   "source": [
    "def spell_correct(text):    \n",
    "    tweet = parser.parse(text)\n",
    "    return tweet['result']"
   ]
  },
  {
   "cell_type": "code",
   "execution_count": 334,
   "metadata": {},
   "outputs": [
    {
     "name": "stdout",
     "output_type": "stream",
     "text": [
      "agreed i saw the failwhale allllll day today\n",
      "Agreed, I saw the fail whale all day today\n",
      "\n",
      "i m sooo sad they killed off kutner on house whyyyyyyyy\n",
      "I am so sad they killed off Kutner on house whyyyyyyyy\n",
      "\n",
      "haha its so cooooold in the d and no but you should still go to the show they do some incredible stuff\n",
      "Ha-ha its so cold in the d and no but you should still go to the show they do some incredible stuff\n",
      "\n",
      "danny im upset that i wasnt here to watch the live chat i was in a car for hours on a trip im soooo upset\n",
      "Danny, I'm upset that I wasn't here to watch the live chat I was in a car for hours on a trip I'm so upset\n",
      "\n",
      "my home town my mammy called all depressd pls explain y a parent let their yr old child walk alone hello its\n",
      "My home town my mammy called all depressed, please explain why a parent lets their yr old child walk alone hello its\n",
      "\n",
      "poor socks luvvvvv the golden retriever i want one sighhhh\n",
      "Poor socks luvvvvv the golden retriever I want one sigh\n",
      "\n",
      "oh did i mention it quot gooooood moooorniiiiiiing quot from germany im back in my cage or better my office\n",
      "Oh, did I mention it quite a good moooorniiiiiiing quote from Germany I'm back in my cage or better my office\n",
      "\n",
      "stupid movies we watched mirrors ugggggh stooopeeed rip off\n",
      "Stupid movies we watched mirrors ugggggh stupid rip off\n",
      "\n"
     ]
    }
   ],
   "source": [
    "for i in mylis:\n",
    "    print(i)\n",
    "    print(spell_correct(i))\n",
    "    print()"
   ]
  },
  {
   "cell_type": "markdown",
   "metadata": {},
   "source": [
    "### TextBlob spell Corrector"
   ]
  },
  {
   "cell_type": "code",
   "execution_count": 15,
   "metadata": {},
   "outputs": [],
   "source": [
    "from textblob import TextBlob"
   ]
  },
  {
   "cell_type": "code",
   "execution_count": 17,
   "metadata": {},
   "outputs": [],
   "source": [
    "def texblob_correct(text):\n",
    "    new = []\n",
    "    for j in text.split():\n",
    "        new.append(str(TextBlob(j).correct()))\n",
    "    text = \" \".join(new)\n",
    "    return text"
   ]
  },
  {
   "cell_type": "code",
   "execution_count": 18,
   "metadata": {},
   "outputs": [
    {
     "name": "stdout",
     "output_type": "stream",
     "text": [
      "agreed i saw the failwhale allllll day today\n",
      "agreed i saw the failwhale allllll day today\n",
      "\n",
      "i m sooo sad they killed off kutner on house whyyyyyyyy\n",
      "i m soon sad they killed off hunter on house whyyyyyyyy\n",
      "\n",
      "haha its so cooooold in the d and no but you should still go to the show they do some incredible stuff\n",
      "hata its so cooooold in the d and no but you should still go to the show they do some incredible stuff\n",
      "\n",
      "danny im upset that i wasnt here to watch the live chat i was in a car for hours on a trip im soooo upset\n",
      "dandy in upset that i want here to watch the live chat i was in a car for hours on a trip in soon upset\n",
      "\n",
      "my home town my mammy called all depressd pls explain y a parent let their yr old child walk alone hello its\n",
      "my home town my mamma called all depressed pus explain y a parent let their or old child walk alone hello its\n",
      "\n",
      "poor socks luvvvvv the golden retriever i want one sighhhh\n",
      "poor socks luvvvvv the golden retrieved i want one sighhhh\n",
      "\n",
      "oh did i mention it quot gooooood moooorniiiiiiing quot from germany im back in my cage or better my office\n",
      "oh did i mention it quit gooooood moooorniiiiiiing quit from germany in back in my cage or better my office\n",
      "\n",
      "stupid movies we watched mirrors ugggggh stooopeeed rip off\n",
      "stupid moves we watched mirrors ugggggh stooopeeed rip off\n",
      "\n"
     ]
    }
   ],
   "source": [
    "for i in mylis:\n",
    "    print(i)\n",
    "    print(texblob_correct(i))\n",
    "    print()"
   ]
  },
  {
   "cell_type": "markdown",
   "metadata": {},
   "source": [
    "### PySpellchecker"
   ]
  },
  {
   "cell_type": "code",
   "execution_count": 19,
   "metadata": {},
   "outputs": [],
   "source": [
    "from spellchecker import SpellChecker\n",
    "spell = SpellChecker()"
   ]
  },
  {
   "cell_type": "code",
   "execution_count": 20,
   "metadata": {},
   "outputs": [
    {
     "data": {
      "text/plain": [
       "'wrong'"
      ]
     },
     "execution_count": 20,
     "metadata": {},
     "output_type": "execute_result"
    }
   ],
   "source": [
    "spell.correction('wrogn')"
   ]
  },
  {
   "cell_type": "code",
   "execution_count": 22,
   "metadata": {},
   "outputs": [],
   "source": [
    "def pyspell_checker(text):\n",
    "    new = []\n",
    "    for j in text.split():\n",
    "        new.append(spell.correction(j))\n",
    "    text = \" \".join(new)\n",
    "    return text"
   ]
  },
  {
   "cell_type": "code",
   "execution_count": 23,
   "metadata": {},
   "outputs": [
    {
     "name": "stdout",
     "output_type": "stream",
     "text": [
      "agreed i saw the failwhale allllll day today\n",
      "agreed i saw the failwhale allllll day today\n",
      "\n",
      "i m sooo sad they killed off kutner on house whyyyyyyyy\n",
      "i m soon sad they killed off outer on house whyyyyyyyy\n",
      "\n",
      "haha its so cooooold in the d and no but you should still go to the show they do some incredible stuff\n",
      "aha its so cooooold in the d and no but you should still go to the show they do some incredible stuff\n",
      "\n",
      "danny im upset that i wasnt here to watch the live chat i was in a car for hours on a trip im soooo upset\n",
      "danny im upset that i wasnt here to watch the live chat i was in a car for hours on a trip im soon upset\n",
      "\n",
      "my home town my mammy called all depressd pls explain y a parent let their yr old child walk alone hello its\n",
      "my home town my mammy called all depressed pls explain y a parent let their yr old child walk alone hello its\n",
      "\n",
      "poor socks luvvvvv the golden retriever i want one sighhhh\n",
      "poor socks luvvvvv the golden retriever i want one sighhhh\n",
      "\n",
      "oh did i mention it quot gooooood moooorniiiiiiing quot from germany im back in my cage or better my office\n",
      "oh did i mention it quote goodwood moooorniiiiiiing quote from germany im back in my cage or better my office\n",
      "\n",
      "stupid movies we watched mirrors ugggggh stooopeeed rip off\n",
      "stupid movies we watched mirrors ugggggh stooopeeed rip off\n",
      "\n"
     ]
    }
   ],
   "source": [
    "for i in mylis:\n",
    "    print(i)\n",
    "    print(pyspell_checker(i))\n",
    "    print()"
   ]
  },
  {
   "cell_type": "markdown",
   "metadata": {},
   "source": [
    "### On comparing Gingerit, Textblob and Pyspellchecker we can see that Gingerit is much better than other two"
   ]
  },
  {
   "cell_type": "markdown",
   "metadata": {},
   "source": [
    "### Remove Repeated words"
   ]
  },
  {
   "cell_type": "code",
   "execution_count": 27,
   "metadata": {},
   "outputs": [],
   "source": [
    "def rem_repeated_word(text):\n",
    "    text = re.sub(r'\\b([a-z]+)\\s+\\1{1,}\\b', r\"\\1\", text)\n",
    "    text = re.sub(r'\\b([a-z]+)\\s+\\1{1,}\\b', r\"\\1\", text)\n",
    "    return text"
   ]
  },
  {
   "cell_type": "code",
   "execution_count": 28,
   "metadata": {},
   "outputs": [
    {
     "data": {
      "text/plain": [
       "'i am going to work from home'"
      ]
     },
     "execution_count": 28,
     "metadata": {},
     "output_type": "execute_result"
    }
   ],
   "source": [
    "#Example\n",
    "rem_repeated_word(\"i am going going to work from home home home\")"
   ]
  },
  {
   "cell_type": "raw",
   "metadata": {},
   "source": [
    "df['text'] = df['text'].apply(rem_repeated_words)\n",
    "df.head()"
   ]
  },
  {
   "cell_type": "markdown",
   "metadata": {},
   "source": [
    "### Remove Html Tags"
   ]
  },
  {
   "cell_type": "code",
   "execution_count": 79,
   "metadata": {},
   "outputs": [],
   "source": [
    "from bs4 import BeautifulSoup"
   ]
  },
  {
   "cell_type": "code",
   "execution_count": 80,
   "metadata": {},
   "outputs": [],
   "source": [
    "def remove_html_tags(text):\n",
    "    soup = BeautifulSoup(text, 'html.parser')\n",
    "    text = soup.get_text()\n",
    "    return text"
   ]
  },
  {
   "cell_type": "raw",
   "metadata": {},
   "source": [
    "df['text'] = df['text'].apply(remove_html_tags)\n",
    "df.head()"
   ]
  },
  {
   "cell_type": "raw",
   "metadata": {},
   "source": []
  },
  {
   "cell_type": "code",
   "execution_count": null,
   "metadata": {},
   "outputs": [],
   "source": [
    "Thanks"
   ]
  }
 ],
 "metadata": {
  "kernelspec": {
   "display_name": "Python 3",
   "language": "python",
   "name": "python3"
  },
  "language_info": {
   "codemirror_mode": {
    "name": "ipython",
    "version": 3
   },
   "file_extension": ".py",
   "mimetype": "text/x-python",
   "name": "python",
   "nbconvert_exporter": "python",
   "pygments_lexer": "ipython3",
   "version": "3.7.7"
  }
 },
 "nbformat": 4,
 "nbformat_minor": 4
}
